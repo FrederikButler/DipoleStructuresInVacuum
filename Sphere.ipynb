{
 "cells": [
  {
   "cell_type": "code",
   "execution_count": 29,
   "id": "f02b29ee",
   "metadata": {},
   "outputs": [],
   "source": [
    "import numpy as np\n",
    "import matplotlib.pyplot as plt\n",
    "import Qchains\n",
    "import plotly.graph_objects as go\n",
    "from scipy.spatial.distance import pdist, squareform\n",
    "import trimesh\n",
    "from sklearn.neighbors import NearestNeighbors"
   ]
  },
  {
   "cell_type": "code",
   "execution_count": 30,
   "id": "8118f80e",
   "metadata": {},
   "outputs": [
    {
     "name": "stdout",
     "output_type": "stream",
     "text": [
      "(12, 3)\n"
     ]
    }
   ],
   "source": [
    "# Create a unit icosphere\n",
    "sphere = trimesh.creation.icosphere(subdivisions=0.9, radius=1.0) #subdivison controls the size\n",
    "\n",
    "sphere_points = sphere.vertices\n",
    "print(sphere_points.shape)"
   ]
  },
  {
   "cell_type": "code",
   "execution_count": 31,
   "id": "6f729df0",
   "metadata": {},
   "outputs": [],
   "source": [
    "# Fit NearestNeighbors model\n",
    "nbrs = NearestNeighbors(n_neighbors=6)  # include self\n",
    "nbrs.fit(sphere_points)\n",
    "\n",
    "# Find neighbors for each point\n",
    "distances, indices = nbrs.kneighbors(sphere_points)\n",
    "\n",
    "# Skip index 0 since it’s the point itself\n",
    "nearest_6_neighbors = indices[:, 1:6]\n",
    "\n",
    "def symmetric_rescale(sphere_points, nearest_6_neighbors, iterations=10, epsilon=0.1):\n",
    "    sphere_points = sphere_points.copy()\n",
    "\n",
    "    for _ in range(iterations):\n",
    "        displacement = np.zeros_like(sphere_points)\n",
    "\n",
    "        for i in range(len(sphere_points)):\n",
    "            for j in nearest_6_neighbors[i]:\n",
    "                if i >= j:\n",
    "                    continue  # avoid double update\n",
    "                direction = sphere_points[j] - sphere_points[i]\n",
    "                dist = np.linalg.norm(direction)\n",
    "                if dist == 0:\n",
    "                    continue\n",
    "                correction = epsilon * (1 - dist) * direction / dist\n",
    "                displacement[i] -= correction / 2\n",
    "                displacement[j] += correction / 2\n",
    "\n",
    "        sphere_points += displacement\n",
    "\n",
    "    return sphere_points"
   ]
  },
  {
   "cell_type": "code",
   "execution_count": 32,
   "id": "5c7c17be",
   "metadata": {},
   "outputs": [
    {
     "data": {
      "text/plain": [
       "1.0000000000000004"
      ]
     },
     "execution_count": 32,
     "metadata": {},
     "output_type": "execute_result"
    }
   ],
   "source": [
    "scaled_sphere_points = symmetric_rescale(sphere_points, nearest_6_neighbors, iterations= 100, epsilon=0.2)\n",
    "np.linalg.norm(scaled_sphere_points[1]-scaled_sphere_points[0])"
   ]
  },
  {
   "cell_type": "code",
   "execution_count": 33,
   "id": "7c2699db",
   "metadata": {},
   "outputs": [],
   "source": [
    "new_point = np.array([[0.0, 0.0, 0.0]])\n",
    "weird_sphere_scaled = np.vstack([scaled_sphere_points, new_point]) "
   ]
  },
  {
   "cell_type": "code",
   "execution_count": 34,
   "id": "4d1a2a0d",
   "metadata": {},
   "outputs": [
    {
     "data": {
      "application/vnd.plotly.v1+json": {
       "config": {
        "plotlyServerURL": "https://plot.ly"
       },
       "data": [
        {
         "marker": {
          "color": "black",
          "size": 4
         },
         "mode": "markers",
         "name": "Atoms",
         "type": "scatter3d",
         "x": [
          -0.5000000000000002,
          0.5000000000000002,
          -0.5000000000000002,
          0.5000000000000002,
          0,
          0,
          0,
          0,
          0.8090169943749479,
          0.8090169943749479,
          -0.8090169943749479,
          -0.8090169943749479
         ],
         "y": [
          0.8090169943749478,
          0.8090169943749478,
          -0.8090169943749478,
          -0.8090169943749478,
          -0.5000000000000002,
          0.5000000000000002,
          -0.5000000000000002,
          0.5000000000000002,
          0,
          0,
          0,
          0
         ],
         "z": [
          -9.382281731182423e-20,
          0,
          -1.0636761198708636e-19,
          -1.0636761198708636e-19,
          0.8090169943749479,
          0.8090169943749479,
          -0.8090169943749479,
          -0.8090169943749479,
          -0.5000000000000002,
          0.5000000000000002,
          -0.5000000000000002,
          0.5000000000000002
         ]
        },
        {
         "line": {
          "color": "gray",
          "width": 2
         },
         "mode": "lines",
         "showlegend": false,
         "type": "scatter3d",
         "x": [
          -0.5000000000000002,
          0.5000000000000002,
          null
         ],
         "y": [
          0.8090169943749478,
          0.8090169943749478,
          null
         ],
         "z": [
          -9.382281731182423e-20,
          0,
          null
         ]
        },
        {
         "line": {
          "color": "gray",
          "width": 2
         },
         "mode": "lines",
         "showlegend": false,
         "type": "scatter3d",
         "x": [
          -0.5000000000000002,
          0,
          null
         ],
         "y": [
          0.8090169943749478,
          0.5000000000000002,
          null
         ],
         "z": [
          -9.382281731182423e-20,
          0.8090169943749479,
          null
         ]
        },
        {
         "line": {
          "color": "gray",
          "width": 2
         },
         "mode": "lines",
         "showlegend": false,
         "type": "scatter3d",
         "x": [
          -0.5000000000000002,
          0,
          null
         ],
         "y": [
          0.8090169943749478,
          0.5000000000000002,
          null
         ],
         "z": [
          -9.382281731182423e-20,
          -0.8090169943749479,
          null
         ]
        },
        {
         "line": {
          "color": "gray",
          "width": 2
         },
         "mode": "lines",
         "showlegend": false,
         "type": "scatter3d",
         "x": [
          -0.5000000000000002,
          -0.8090169943749479,
          null
         ],
         "y": [
          0.8090169943749478,
          0,
          null
         ],
         "z": [
          -9.382281731182423e-20,
          -0.5000000000000002,
          null
         ]
        },
        {
         "line": {
          "color": "gray",
          "width": 2
         },
         "mode": "lines",
         "showlegend": false,
         "type": "scatter3d",
         "x": [
          -0.5000000000000002,
          -0.8090169943749479,
          null
         ],
         "y": [
          0.8090169943749478,
          0,
          null
         ],
         "z": [
          -9.382281731182423e-20,
          0.5000000000000002,
          null
         ]
        },
        {
         "line": {
          "color": "gray",
          "width": 2
         },
         "mode": "lines",
         "showlegend": false,
         "type": "scatter3d",
         "x": [
          0.5000000000000002,
          0,
          null
         ],
         "y": [
          0.8090169943749478,
          0.5000000000000002,
          null
         ],
         "z": [
          0,
          0.8090169943749479,
          null
         ]
        },
        {
         "line": {
          "color": "gray",
          "width": 2
         },
         "mode": "lines",
         "showlegend": false,
         "type": "scatter3d",
         "x": [
          0.5000000000000002,
          0,
          null
         ],
         "y": [
          0.8090169943749478,
          0.5000000000000002,
          null
         ],
         "z": [
          0,
          -0.8090169943749479,
          null
         ]
        },
        {
         "line": {
          "color": "gray",
          "width": 2
         },
         "mode": "lines",
         "showlegend": false,
         "type": "scatter3d",
         "x": [
          0.5000000000000002,
          0.8090169943749479,
          null
         ],
         "y": [
          0.8090169943749478,
          0,
          null
         ],
         "z": [
          0,
          -0.5000000000000002,
          null
         ]
        },
        {
         "line": {
          "color": "gray",
          "width": 2
         },
         "mode": "lines",
         "showlegend": false,
         "type": "scatter3d",
         "x": [
          0.5000000000000002,
          0.8090169943749479,
          null
         ],
         "y": [
          0.8090169943749478,
          0,
          null
         ],
         "z": [
          0,
          0.5000000000000002,
          null
         ]
        },
        {
         "line": {
          "color": "gray",
          "width": 2
         },
         "mode": "lines",
         "showlegend": false,
         "type": "scatter3d",
         "x": [
          -0.5000000000000002,
          0.5000000000000002,
          null
         ],
         "y": [
          -0.8090169943749478,
          -0.8090169943749478,
          null
         ],
         "z": [
          -1.0636761198708636e-19,
          -1.0636761198708636e-19,
          null
         ]
        },
        {
         "line": {
          "color": "gray",
          "width": 2
         },
         "mode": "lines",
         "showlegend": false,
         "type": "scatter3d",
         "x": [
          -0.5000000000000002,
          0,
          null
         ],
         "y": [
          -0.8090169943749478,
          -0.5000000000000002,
          null
         ],
         "z": [
          -1.0636761198708636e-19,
          0.8090169943749479,
          null
         ]
        },
        {
         "line": {
          "color": "gray",
          "width": 2
         },
         "mode": "lines",
         "showlegend": false,
         "type": "scatter3d",
         "x": [
          -0.5000000000000002,
          0,
          null
         ],
         "y": [
          -0.8090169943749478,
          -0.5000000000000002,
          null
         ],
         "z": [
          -1.0636761198708636e-19,
          -0.8090169943749479,
          null
         ]
        },
        {
         "line": {
          "color": "gray",
          "width": 2
         },
         "mode": "lines",
         "showlegend": false,
         "type": "scatter3d",
         "x": [
          -0.5000000000000002,
          -0.8090169943749479,
          null
         ],
         "y": [
          -0.8090169943749478,
          0,
          null
         ],
         "z": [
          -1.0636761198708636e-19,
          -0.5000000000000002,
          null
         ]
        },
        {
         "line": {
          "color": "gray",
          "width": 2
         },
         "mode": "lines",
         "showlegend": false,
         "type": "scatter3d",
         "x": [
          -0.5000000000000002,
          -0.8090169943749479,
          null
         ],
         "y": [
          -0.8090169943749478,
          0,
          null
         ],
         "z": [
          -1.0636761198708636e-19,
          0.5000000000000002,
          null
         ]
        },
        {
         "line": {
          "color": "gray",
          "width": 2
         },
         "mode": "lines",
         "showlegend": false,
         "type": "scatter3d",
         "x": [
          0.5000000000000002,
          0,
          null
         ],
         "y": [
          -0.8090169943749478,
          -0.5000000000000002,
          null
         ],
         "z": [
          -1.0636761198708636e-19,
          0.8090169943749479,
          null
         ]
        },
        {
         "line": {
          "color": "gray",
          "width": 2
         },
         "mode": "lines",
         "showlegend": false,
         "type": "scatter3d",
         "x": [
          0.5000000000000002,
          0,
          null
         ],
         "y": [
          -0.8090169943749478,
          -0.5000000000000002,
          null
         ],
         "z": [
          -1.0636761198708636e-19,
          -0.8090169943749479,
          null
         ]
        },
        {
         "line": {
          "color": "gray",
          "width": 2
         },
         "mode": "lines",
         "showlegend": false,
         "type": "scatter3d",
         "x": [
          0.5000000000000002,
          0.8090169943749479,
          null
         ],
         "y": [
          -0.8090169943749478,
          0,
          null
         ],
         "z": [
          -1.0636761198708636e-19,
          -0.5000000000000002,
          null
         ]
        },
        {
         "line": {
          "color": "gray",
          "width": 2
         },
         "mode": "lines",
         "showlegend": false,
         "type": "scatter3d",
         "x": [
          0.5000000000000002,
          0.8090169943749479,
          null
         ],
         "y": [
          -0.8090169943749478,
          0,
          null
         ],
         "z": [
          -1.0636761198708636e-19,
          0.5000000000000002,
          null
         ]
        },
        {
         "line": {
          "color": "gray",
          "width": 2
         },
         "mode": "lines",
         "showlegend": false,
         "type": "scatter3d",
         "x": [
          0,
          0,
          null
         ],
         "y": [
          -0.5000000000000002,
          0.5000000000000002,
          null
         ],
         "z": [
          0.8090169943749479,
          0.8090169943749479,
          null
         ]
        },
        {
         "line": {
          "color": "gray",
          "width": 2
         },
         "mode": "lines",
         "showlegend": false,
         "type": "scatter3d",
         "x": [
          0,
          0.8090169943749479,
          null
         ],
         "y": [
          -0.5000000000000002,
          0,
          null
         ],
         "z": [
          0.8090169943749479,
          0.5000000000000002,
          null
         ]
        },
        {
         "line": {
          "color": "gray",
          "width": 2
         },
         "mode": "lines",
         "showlegend": false,
         "type": "scatter3d",
         "x": [
          0,
          -0.8090169943749479,
          null
         ],
         "y": [
          -0.5000000000000002,
          0,
          null
         ],
         "z": [
          0.8090169943749479,
          0.5000000000000002,
          null
         ]
        },
        {
         "line": {
          "color": "gray",
          "width": 2
         },
         "mode": "lines",
         "showlegend": false,
         "type": "scatter3d",
         "x": [
          0,
          0.8090169943749479,
          null
         ],
         "y": [
          0.5000000000000002,
          0,
          null
         ],
         "z": [
          0.8090169943749479,
          0.5000000000000002,
          null
         ]
        },
        {
         "line": {
          "color": "gray",
          "width": 2
         },
         "mode": "lines",
         "showlegend": false,
         "type": "scatter3d",
         "x": [
          0,
          -0.8090169943749479,
          null
         ],
         "y": [
          0.5000000000000002,
          0,
          null
         ],
         "z": [
          0.8090169943749479,
          0.5000000000000002,
          null
         ]
        },
        {
         "line": {
          "color": "gray",
          "width": 2
         },
         "mode": "lines",
         "showlegend": false,
         "type": "scatter3d",
         "x": [
          0,
          0,
          null
         ],
         "y": [
          -0.5000000000000002,
          0.5000000000000002,
          null
         ],
         "z": [
          -0.8090169943749479,
          -0.8090169943749479,
          null
         ]
        },
        {
         "line": {
          "color": "gray",
          "width": 2
         },
         "mode": "lines",
         "showlegend": false,
         "type": "scatter3d",
         "x": [
          0,
          0.8090169943749479,
          null
         ],
         "y": [
          -0.5000000000000002,
          0,
          null
         ],
         "z": [
          -0.8090169943749479,
          -0.5000000000000002,
          null
         ]
        },
        {
         "line": {
          "color": "gray",
          "width": 2
         },
         "mode": "lines",
         "showlegend": false,
         "type": "scatter3d",
         "x": [
          0,
          -0.8090169943749479,
          null
         ],
         "y": [
          -0.5000000000000002,
          0,
          null
         ],
         "z": [
          -0.8090169943749479,
          -0.5000000000000002,
          null
         ]
        },
        {
         "line": {
          "color": "gray",
          "width": 2
         },
         "mode": "lines",
         "showlegend": false,
         "type": "scatter3d",
         "x": [
          0,
          0.8090169943749479,
          null
         ],
         "y": [
          0.5000000000000002,
          0,
          null
         ],
         "z": [
          -0.8090169943749479,
          -0.5000000000000002,
          null
         ]
        },
        {
         "line": {
          "color": "gray",
          "width": 2
         },
         "mode": "lines",
         "showlegend": false,
         "type": "scatter3d",
         "x": [
          0,
          -0.8090169943749479,
          null
         ],
         "y": [
          0.5000000000000002,
          0,
          null
         ],
         "z": [
          -0.8090169943749479,
          -0.5000000000000002,
          null
         ]
        },
        {
         "line": {
          "color": "gray",
          "width": 2
         },
         "mode": "lines",
         "showlegend": false,
         "type": "scatter3d",
         "x": [
          0.8090169943749479,
          0.8090169943749479,
          null
         ],
         "y": [
          0,
          0,
          null
         ],
         "z": [
          -0.5000000000000002,
          0.5000000000000002,
          null
         ]
        },
        {
         "line": {
          "color": "gray",
          "width": 2
         },
         "mode": "lines",
         "showlegend": false,
         "type": "scatter3d",
         "x": [
          -0.8090169943749479,
          -0.8090169943749479,
          null
         ],
         "y": [
          0,
          0,
          null
         ],
         "z": [
          -0.5000000000000002,
          0.5000000000000002,
          null
         ]
        }
       ],
       "layout": {
        "scene": {
         "aspectmode": "data",
         "xaxis": {
          "title": {
           "text": "X"
          }
         },
         "yaxis": {
          "title": {
           "text": "Y"
          }
         },
         "zaxis": {
          "title": {
           "text": "Z"
          }
         }
        },
        "template": {
         "data": {
          "bar": [
           {
            "error_x": {
             "color": "#2a3f5f"
            },
            "error_y": {
             "color": "#2a3f5f"
            },
            "marker": {
             "line": {
              "color": "#E5ECF6",
              "width": 0.5
             },
             "pattern": {
              "fillmode": "overlay",
              "size": 10,
              "solidity": 0.2
             }
            },
            "type": "bar"
           }
          ],
          "barpolar": [
           {
            "marker": {
             "line": {
              "color": "#E5ECF6",
              "width": 0.5
             },
             "pattern": {
              "fillmode": "overlay",
              "size": 10,
              "solidity": 0.2
             }
            },
            "type": "barpolar"
           }
          ],
          "carpet": [
           {
            "aaxis": {
             "endlinecolor": "#2a3f5f",
             "gridcolor": "white",
             "linecolor": "white",
             "minorgridcolor": "white",
             "startlinecolor": "#2a3f5f"
            },
            "baxis": {
             "endlinecolor": "#2a3f5f",
             "gridcolor": "white",
             "linecolor": "white",
             "minorgridcolor": "white",
             "startlinecolor": "#2a3f5f"
            },
            "type": "carpet"
           }
          ],
          "choropleth": [
           {
            "colorbar": {
             "outlinewidth": 0,
             "ticks": ""
            },
            "type": "choropleth"
           }
          ],
          "contour": [
           {
            "colorbar": {
             "outlinewidth": 0,
             "ticks": ""
            },
            "colorscale": [
             [
              0,
              "#0d0887"
             ],
             [
              0.1111111111111111,
              "#46039f"
             ],
             [
              0.2222222222222222,
              "#7201a8"
             ],
             [
              0.3333333333333333,
              "#9c179e"
             ],
             [
              0.4444444444444444,
              "#bd3786"
             ],
             [
              0.5555555555555556,
              "#d8576b"
             ],
             [
              0.6666666666666666,
              "#ed7953"
             ],
             [
              0.7777777777777778,
              "#fb9f3a"
             ],
             [
              0.8888888888888888,
              "#fdca26"
             ],
             [
              1,
              "#f0f921"
             ]
            ],
            "type": "contour"
           }
          ],
          "contourcarpet": [
           {
            "colorbar": {
             "outlinewidth": 0,
             "ticks": ""
            },
            "type": "contourcarpet"
           }
          ],
          "heatmap": [
           {
            "colorbar": {
             "outlinewidth": 0,
             "ticks": ""
            },
            "colorscale": [
             [
              0,
              "#0d0887"
             ],
             [
              0.1111111111111111,
              "#46039f"
             ],
             [
              0.2222222222222222,
              "#7201a8"
             ],
             [
              0.3333333333333333,
              "#9c179e"
             ],
             [
              0.4444444444444444,
              "#bd3786"
             ],
             [
              0.5555555555555556,
              "#d8576b"
             ],
             [
              0.6666666666666666,
              "#ed7953"
             ],
             [
              0.7777777777777778,
              "#fb9f3a"
             ],
             [
              0.8888888888888888,
              "#fdca26"
             ],
             [
              1,
              "#f0f921"
             ]
            ],
            "type": "heatmap"
           }
          ],
          "heatmapgl": [
           {
            "colorbar": {
             "outlinewidth": 0,
             "ticks": ""
            },
            "colorscale": [
             [
              0,
              "#0d0887"
             ],
             [
              0.1111111111111111,
              "#46039f"
             ],
             [
              0.2222222222222222,
              "#7201a8"
             ],
             [
              0.3333333333333333,
              "#9c179e"
             ],
             [
              0.4444444444444444,
              "#bd3786"
             ],
             [
              0.5555555555555556,
              "#d8576b"
             ],
             [
              0.6666666666666666,
              "#ed7953"
             ],
             [
              0.7777777777777778,
              "#fb9f3a"
             ],
             [
              0.8888888888888888,
              "#fdca26"
             ],
             [
              1,
              "#f0f921"
             ]
            ],
            "type": "heatmapgl"
           }
          ],
          "histogram": [
           {
            "marker": {
             "pattern": {
              "fillmode": "overlay",
              "size": 10,
              "solidity": 0.2
             }
            },
            "type": "histogram"
           }
          ],
          "histogram2d": [
           {
            "colorbar": {
             "outlinewidth": 0,
             "ticks": ""
            },
            "colorscale": [
             [
              0,
              "#0d0887"
             ],
             [
              0.1111111111111111,
              "#46039f"
             ],
             [
              0.2222222222222222,
              "#7201a8"
             ],
             [
              0.3333333333333333,
              "#9c179e"
             ],
             [
              0.4444444444444444,
              "#bd3786"
             ],
             [
              0.5555555555555556,
              "#d8576b"
             ],
             [
              0.6666666666666666,
              "#ed7953"
             ],
             [
              0.7777777777777778,
              "#fb9f3a"
             ],
             [
              0.8888888888888888,
              "#fdca26"
             ],
             [
              1,
              "#f0f921"
             ]
            ],
            "type": "histogram2d"
           }
          ],
          "histogram2dcontour": [
           {
            "colorbar": {
             "outlinewidth": 0,
             "ticks": ""
            },
            "colorscale": [
             [
              0,
              "#0d0887"
             ],
             [
              0.1111111111111111,
              "#46039f"
             ],
             [
              0.2222222222222222,
              "#7201a8"
             ],
             [
              0.3333333333333333,
              "#9c179e"
             ],
             [
              0.4444444444444444,
              "#bd3786"
             ],
             [
              0.5555555555555556,
              "#d8576b"
             ],
             [
              0.6666666666666666,
              "#ed7953"
             ],
             [
              0.7777777777777778,
              "#fb9f3a"
             ],
             [
              0.8888888888888888,
              "#fdca26"
             ],
             [
              1,
              "#f0f921"
             ]
            ],
            "type": "histogram2dcontour"
           }
          ],
          "mesh3d": [
           {
            "colorbar": {
             "outlinewidth": 0,
             "ticks": ""
            },
            "type": "mesh3d"
           }
          ],
          "parcoords": [
           {
            "line": {
             "colorbar": {
              "outlinewidth": 0,
              "ticks": ""
             }
            },
            "type": "parcoords"
           }
          ],
          "pie": [
           {
            "automargin": true,
            "type": "pie"
           }
          ],
          "scatter": [
           {
            "fillpattern": {
             "fillmode": "overlay",
             "size": 10,
             "solidity": 0.2
            },
            "type": "scatter"
           }
          ],
          "scatter3d": [
           {
            "line": {
             "colorbar": {
              "outlinewidth": 0,
              "ticks": ""
             }
            },
            "marker": {
             "colorbar": {
              "outlinewidth": 0,
              "ticks": ""
             }
            },
            "type": "scatter3d"
           }
          ],
          "scattercarpet": [
           {
            "marker": {
             "colorbar": {
              "outlinewidth": 0,
              "ticks": ""
             }
            },
            "type": "scattercarpet"
           }
          ],
          "scattergeo": [
           {
            "marker": {
             "colorbar": {
              "outlinewidth": 0,
              "ticks": ""
             }
            },
            "type": "scattergeo"
           }
          ],
          "scattergl": [
           {
            "marker": {
             "colorbar": {
              "outlinewidth": 0,
              "ticks": ""
             }
            },
            "type": "scattergl"
           }
          ],
          "scattermapbox": [
           {
            "marker": {
             "colorbar": {
              "outlinewidth": 0,
              "ticks": ""
             }
            },
            "type": "scattermapbox"
           }
          ],
          "scatterpolar": [
           {
            "marker": {
             "colorbar": {
              "outlinewidth": 0,
              "ticks": ""
             }
            },
            "type": "scatterpolar"
           }
          ],
          "scatterpolargl": [
           {
            "marker": {
             "colorbar": {
              "outlinewidth": 0,
              "ticks": ""
             }
            },
            "type": "scatterpolargl"
           }
          ],
          "scatterternary": [
           {
            "marker": {
             "colorbar": {
              "outlinewidth": 0,
              "ticks": ""
             }
            },
            "type": "scatterternary"
           }
          ],
          "surface": [
           {
            "colorbar": {
             "outlinewidth": 0,
             "ticks": ""
            },
            "colorscale": [
             [
              0,
              "#0d0887"
             ],
             [
              0.1111111111111111,
              "#46039f"
             ],
             [
              0.2222222222222222,
              "#7201a8"
             ],
             [
              0.3333333333333333,
              "#9c179e"
             ],
             [
              0.4444444444444444,
              "#bd3786"
             ],
             [
              0.5555555555555556,
              "#d8576b"
             ],
             [
              0.6666666666666666,
              "#ed7953"
             ],
             [
              0.7777777777777778,
              "#fb9f3a"
             ],
             [
              0.8888888888888888,
              "#fdca26"
             ],
             [
              1,
              "#f0f921"
             ]
            ],
            "type": "surface"
           }
          ],
          "table": [
           {
            "cells": {
             "fill": {
              "color": "#EBF0F8"
             },
             "line": {
              "color": "white"
             }
            },
            "header": {
             "fill": {
              "color": "#C8D4E3"
             },
             "line": {
              "color": "white"
             }
            },
            "type": "table"
           }
          ]
         },
         "layout": {
          "annotationdefaults": {
           "arrowcolor": "#2a3f5f",
           "arrowhead": 0,
           "arrowwidth": 1
          },
          "autotypenumbers": "strict",
          "coloraxis": {
           "colorbar": {
            "outlinewidth": 0,
            "ticks": ""
           }
          },
          "colorscale": {
           "diverging": [
            [
             0,
             "#8e0152"
            ],
            [
             0.1,
             "#c51b7d"
            ],
            [
             0.2,
             "#de77ae"
            ],
            [
             0.3,
             "#f1b6da"
            ],
            [
             0.4,
             "#fde0ef"
            ],
            [
             0.5,
             "#f7f7f7"
            ],
            [
             0.6,
             "#e6f5d0"
            ],
            [
             0.7,
             "#b8e186"
            ],
            [
             0.8,
             "#7fbc41"
            ],
            [
             0.9,
             "#4d9221"
            ],
            [
             1,
             "#276419"
            ]
           ],
           "sequential": [
            [
             0,
             "#0d0887"
            ],
            [
             0.1111111111111111,
             "#46039f"
            ],
            [
             0.2222222222222222,
             "#7201a8"
            ],
            [
             0.3333333333333333,
             "#9c179e"
            ],
            [
             0.4444444444444444,
             "#bd3786"
            ],
            [
             0.5555555555555556,
             "#d8576b"
            ],
            [
             0.6666666666666666,
             "#ed7953"
            ],
            [
             0.7777777777777778,
             "#fb9f3a"
            ],
            [
             0.8888888888888888,
             "#fdca26"
            ],
            [
             1,
             "#f0f921"
            ]
           ],
           "sequentialminus": [
            [
             0,
             "#0d0887"
            ],
            [
             0.1111111111111111,
             "#46039f"
            ],
            [
             0.2222222222222222,
             "#7201a8"
            ],
            [
             0.3333333333333333,
             "#9c179e"
            ],
            [
             0.4444444444444444,
             "#bd3786"
            ],
            [
             0.5555555555555556,
             "#d8576b"
            ],
            [
             0.6666666666666666,
             "#ed7953"
            ],
            [
             0.7777777777777778,
             "#fb9f3a"
            ],
            [
             0.8888888888888888,
             "#fdca26"
            ],
            [
             1,
             "#f0f921"
            ]
           ]
          },
          "colorway": [
           "#636efa",
           "#EF553B",
           "#00cc96",
           "#ab63fa",
           "#FFA15A",
           "#19d3f3",
           "#FF6692",
           "#B6E880",
           "#FF97FF",
           "#FECB52"
          ],
          "font": {
           "color": "#2a3f5f"
          },
          "geo": {
           "bgcolor": "white",
           "lakecolor": "white",
           "landcolor": "#E5ECF6",
           "showlakes": true,
           "showland": true,
           "subunitcolor": "white"
          },
          "hoverlabel": {
           "align": "left"
          },
          "hovermode": "closest",
          "mapbox": {
           "style": "light"
          },
          "paper_bgcolor": "white",
          "plot_bgcolor": "#E5ECF6",
          "polar": {
           "angularaxis": {
            "gridcolor": "white",
            "linecolor": "white",
            "ticks": ""
           },
           "bgcolor": "#E5ECF6",
           "radialaxis": {
            "gridcolor": "white",
            "linecolor": "white",
            "ticks": ""
           }
          },
          "scene": {
           "xaxis": {
            "backgroundcolor": "#E5ECF6",
            "gridcolor": "white",
            "gridwidth": 2,
            "linecolor": "white",
            "showbackground": true,
            "ticks": "",
            "zerolinecolor": "white"
           },
           "yaxis": {
            "backgroundcolor": "#E5ECF6",
            "gridcolor": "white",
            "gridwidth": 2,
            "linecolor": "white",
            "showbackground": true,
            "ticks": "",
            "zerolinecolor": "white"
           },
           "zaxis": {
            "backgroundcolor": "#E5ECF6",
            "gridcolor": "white",
            "gridwidth": 2,
            "linecolor": "white",
            "showbackground": true,
            "ticks": "",
            "zerolinecolor": "white"
           }
          },
          "shapedefaults": {
           "line": {
            "color": "#2a3f5f"
           }
          },
          "ternary": {
           "aaxis": {
            "gridcolor": "white",
            "linecolor": "white",
            "ticks": ""
           },
           "baxis": {
            "gridcolor": "white",
            "linecolor": "white",
            "ticks": ""
           },
           "bgcolor": "#E5ECF6",
           "caxis": {
            "gridcolor": "white",
            "linecolor": "white",
            "ticks": ""
           }
          },
          "title": {
           "x": 0.05
          },
          "xaxis": {
           "automargin": true,
           "gridcolor": "white",
           "linecolor": "white",
           "ticks": "",
           "title": {
            "standoff": 15
           },
           "zerolinecolor": "white",
           "zerolinewidth": 2
          },
          "yaxis": {
           "automargin": true,
           "gridcolor": "white",
           "linecolor": "white",
           "ticks": "",
           "title": {
            "standoff": 15
           },
           "zerolinecolor": "white",
           "zerolinewidth": 2
          }
         }
        },
        "title": {
         "text": "Interactive icosphere"
        }
       }
      }
     },
     "metadata": {},
     "output_type": "display_data"
    }
   ],
   "source": [
    "#Qchains.StructurePlotter(scaled_sphere_points) ## Instead of this we do it manually to add lines between neighbours\n",
    "\n",
    "atoms = go.Scatter3d(\n",
    "    x=scaled_sphere_points[:, 0],\n",
    "    y=scaled_sphere_points[:, 1],\n",
    "    z=scaled_sphere_points[:, 2],\n",
    "    mode='markers',\n",
    "    marker=dict(size=4, color='black'),\n",
    "    name='Atoms'\n",
    ")\n",
    "\n",
    "# Create lines between atoms within bonding distance\n",
    "D = squareform(pdist(scaled_sphere_points))\n",
    "\n",
    "bond_length = 1\n",
    "tolerance = 0.001\n",
    "\n",
    "# Only draw edges where distance ≈ bond length\n",
    "edges = []\n",
    "for i in range(len(scaled_sphere_points)):\n",
    "    for j in range(i + 1, len(scaled_sphere_points)):\n",
    "        dist = np.linalg.norm(scaled_sphere_points[i] - scaled_sphere_points[j])\n",
    "        if abs(dist - bond_length) < tolerance:\n",
    "            edges.append(go.Scatter3d(\n",
    "                x=[scaled_sphere_points[i, 0], scaled_sphere_points[j, 0], None],\n",
    "                y=[scaled_sphere_points[i, 1], scaled_sphere_points[j, 1], None],\n",
    "                z=[scaled_sphere_points[i, 2], scaled_sphere_points[j, 2], None],\n",
    "                mode='lines',\n",
    "                line=dict(color='gray', width=2),\n",
    "                showlegend=False\n",
    "            ))\n",
    "\n",
    "\n",
    "# Combine all objects\n",
    "fig = go.Figure(data=[atoms] + edges)\n",
    "fig.update_layout(\n",
    "    title='Interactive icosphere',\n",
    "    scene=dict(\n",
    "        xaxis=dict(title='X'),\n",
    "        yaxis=dict(title='Y'),\n",
    "        zaxis=dict(title='Z'),\n",
    "        aspectmode='data'\n",
    "    )\n",
    ")\n",
    "\n",
    "fig.show()"
   ]
  },
  {
   "cell_type": "code",
   "execution_count": 35,
   "id": "bf2c8298",
   "metadata": {},
   "outputs": [
    {
     "data": {
      "image/png": "[encoded data removed]",
      "text/plain": [
       "<Figure size 3600x1200 with 1 Axes>"
      ]
     },
     "metadata": {},
     "output_type": "display_data"
    }
   ],
   "source": [
    "dipole_hatvec = np.array([1, 0, 0])\n",
    "decay_rate_list = []\n",
    "most_subradiant_list = []\n",
    "distances = np.linspace(0, 2, 200) \n",
    "\n",
    "for d in distances[1:]:\n",
    "    eigvals_sphere12 , eigvec_sphere12 = Qchains.FindEigenstates(scaled_sphere_points, dipole_hatvec, d)\n",
    "    decay_rate = 2 * eigvals_sphere12.real\n",
    "    decay_rate_list.append(decay_rate)\n",
    "\n",
    "    subradiant = -np.max(2 * eigvals_sphere12.real)\n",
    "    most_subradiant_list.append(subradiant)\n",
    "    \n",
    "\n",
    "decay_rate_list_reversed = [-p for p in decay_rate_list]\n",
    "plt.figure(figsize=(12,4), dpi=300)\n",
    "plt.plot(distances[1:], decay_rate_list_reversed, '.', c = 'blue', markersize=3);\n",
    "plt.xlabel(r'$\\frac{d}{\\lambda_e}$', size = 15)\n",
    "plt.ylabel(r'$\\Gamma$ / $\\Gamma_0$', size = 15)\n",
    "plt.title('Decay rates as function of interatomic distance in sphere')\n",
    "plt.yscale('log')"
   ]
  },
  {
   "cell_type": "markdown",
   "id": "f5cb3270",
   "metadata": {},
   "source": [
    "#### Try for hedgehog version"
   ]
  },
  {
   "cell_type": "code",
   "execution_count": 36,
   "id": "a4fde59f",
   "metadata": {},
   "outputs": [],
   "source": [
    "magnitudes_n = np.linalg.norm(scaled_sphere_points, axis=1, keepdims=True) \n",
    "unit_polarization = scaled_sphere_points / magnitudes_n"
   ]
  },
  {
   "cell_type": "code",
   "execution_count": 37,
   "id": "5b3431f3",
   "metadata": {},
   "outputs": [
    {
     "data": {
      "application/vnd.plotly.v1+json": {
       "config": {
        "plotlyServerURL": "https://plot.ly"
       },
       "data": [
        {
         "marker": {
          "color": "blue",
          "size": 2
         },
         "mode": "markers",
         "name": "Sphere points",
         "type": "scatter3d",
         "x": [
          -0.5000000000000002,
          0.5000000000000002,
          -0.5000000000000002,
          0.5000000000000002,
          0,
          0,
          0,
          0,
          0.8090169943749479,
          0.8090169943749479,
          -0.8090169943749479,
          -0.8090169943749479
         ],
         "y": [
          0.8090169943749478,
          0.8090169943749478,
          -0.8090169943749478,
          -0.8090169943749478,
          -0.5000000000000002,
          0.5000000000000002,
          -0.5000000000000002,
          0.5000000000000002,
          0,
          0,
          0,
          0
         ],
         "z": [
          -9.382281731182423e-20,
          0,
          -1.0636761198708636e-19,
          -1.0636761198708636e-19,
          0.8090169943749479,
          0.8090169943749479,
          -0.8090169943749479,
          -0.8090169943749479,
          -0.5000000000000002,
          0.5000000000000002,
          -0.5000000000000002,
          0.5000000000000002
         ]
        },
        {
         "anchor": "tail",
         "colorscale": [
          [
           0,
           "rgb(0,0,0)"
          ],
          [
           0.3333333333333333,
           "rgb(230,0,0)"
          ],
          [
           0.6666666666666666,
           "rgb(255,210,0)"
          ],
          [
           1,
           "rgb(255,255,255)"
          ]
         ],
         "lighting": {
          "ambient": 1,
          "diffuse": 0,
          "fresnel": 0,
          "roughness": 0,
          "specular": 0
         },
         "name": "Vectors",
         "showscale": false,
         "sizemode": "absolute",
         "sizeref": 0.5,
         "type": "cone",
         "u": [
          -0.5257311121191336,
          0.5257311121191336,
          -0.5257311121191336,
          0.5257311121191336,
          0,
          0,
          0,
          0,
          0.85065080835204,
          0.85065080835204,
          -0.85065080835204,
          -0.85065080835204
         ],
         "v": [
          0.85065080835204,
          0.85065080835204,
          -0.85065080835204,
          -0.85065080835204,
          -0.5257311121191336,
          0.5257311121191336,
          -0.5257311121191336,
          0.5257311121191336,
          0,
          0,
          0,
          0
         ],
         "w": [
          -9.865114817499126e-20,
          0,
          -1.1184152588685475e-19,
          -1.1184152588685475e-19,
          0.85065080835204,
          0.85065080835204,
          -0.85065080835204,
          -0.85065080835204,
          -0.5257311121191336,
          0.5257311121191336,
          -0.5257311121191336,
          0.5257311121191336
         ],
         "x": [
          -0.5000000000000002,
          0.5000000000000002,
          -0.5000000000000002,
          0.5000000000000002,
          0,
          0,
          0,
          0,
          0.8090169943749479,
          0.8090169943749479,
          -0.8090169943749479,
          -0.8090169943749479
         ],
         "y": [
          0.8090169943749478,
          0.8090169943749478,
          -0.8090169943749478,
          -0.8090169943749478,
          -0.5000000000000002,
          0.5000000000000002,
          -0.5000000000000002,
          0.5000000000000002,
          0,
          0,
          0,
          0
         ],
         "z": [
          -9.382281731182423e-20,
          0,
          -1.0636761198708636e-19,
          -1.0636761198708636e-19,
          0.8090169943749479,
          0.8090169943749479,
          -0.8090169943749479,
          -0.8090169943749479,
          -0.5000000000000002,
          0.5000000000000002,
          -0.5000000000000002,
          0.5000000000000002
         ]
        }
       ],
       "layout": {
        "scene": {
         "aspectmode": "data",
         "xaxis": {
          "title": {
           "text": "X"
          }
         },
         "yaxis": {
          "title": {
           "text": "Y"
          }
         },
         "zaxis": {
          "title": {
           "text": "Z"
          }
         }
        },
        "template": {
         "data": {
          "bar": [
           {
            "error_x": {
             "color": "#2a3f5f"
            },
            "error_y": {
             "color": "#2a3f5f"
            },
            "marker": {
             "line": {
              "color": "#E5ECF6",
              "width": 0.5
             },
             "pattern": {
              "fillmode": "overlay",
              "size": 10,
              "solidity": 0.2
             }
            },
            "type": "bar"
           }
          ],
          "barpolar": [
           {
            "marker": {
             "line": {
              "color": "#E5ECF6",
              "width": 0.5
             },
             "pattern": {
              "fillmode": "overlay",
              "size": 10,
              "solidity": 0.2
             }
            },
            "type": "barpolar"
           }
          ],
          "carpet": [
           {
            "aaxis": {
             "endlinecolor": "#2a3f5f",
             "gridcolor": "white",
             "linecolor": "white",
             "minorgridcolor": "white",
             "startlinecolor": "#2a3f5f"
            },
            "baxis": {
             "endlinecolor": "#2a3f5f",
             "gridcolor": "white",
             "linecolor": "white",
             "minorgridcolor": "white",
             "startlinecolor": "#2a3f5f"
            },
            "type": "carpet"
           }
          ],
          "choropleth": [
           {
            "colorbar": {
             "outlinewidth": 0,
             "ticks": ""
            },
            "type": "choropleth"
           }
          ],
          "contour": [
           {
            "colorbar": {
             "outlinewidth": 0,
             "ticks": ""
            },
            "colorscale": [
             [
              0,
              "#0d0887"
             ],
             [
              0.1111111111111111,
              "#46039f"
             ],
             [
              0.2222222222222222,
              "#7201a8"
             ],
             [
              0.3333333333333333,
              "#9c179e"
             ],
             [
              0.4444444444444444,
              "#bd3786"
             ],
             [
              0.5555555555555556,
              "#d8576b"
             ],
             [
              0.6666666666666666,
              "#ed7953"
             ],
             [
              0.7777777777777778,
              "#fb9f3a"
             ],
             [
              0.8888888888888888,
              "#fdca26"
             ],
             [
              1,
              "#f0f921"
             ]
            ],
            "type": "contour"
           }
          ],
          "contourcarpet": [
           {
            "colorbar": {
             "outlinewidth": 0,
             "ticks": ""
            },
            "type": "contourcarpet"
           }
          ],
          "heatmap": [
           {
            "colorbar": {
             "outlinewidth": 0,
             "ticks": ""
            },
            "colorscale": [
             [
              0,
              "#0d0887"
             ],
             [
              0.1111111111111111,
              "#46039f"
             ],
             [
              0.2222222222222222,
              "#7201a8"
             ],
             [
              0.3333333333333333,
              "#9c179e"
             ],
             [
              0.4444444444444444,
              "#bd3786"
             ],
             [
              0.5555555555555556,
              "#d8576b"
             ],
             [
              0.6666666666666666,
              "#ed7953"
             ],
             [
              0.7777777777777778,
              "#fb9f3a"
             ],
             [
              0.8888888888888888,
              "#fdca26"
             ],
             [
              1,
              "#f0f921"
             ]
            ],
            "type": "heatmap"
           }
          ],
          "heatmapgl": [
           {
            "colorbar": {
             "outlinewidth": 0,
             "ticks": ""
            },
            "colorscale": [
             [
              0,
              "#0d0887"
             ],
             [
              0.1111111111111111,
              "#46039f"
             ],
             [
              0.2222222222222222,
              "#7201a8"
             ],
             [
              0.3333333333333333,
              "#9c179e"
             ],
             [
              0.4444444444444444,
              "#bd3786"
             ],
             [
              0.5555555555555556,
              "#d8576b"
             ],
             [
              0.6666666666666666,
              "#ed7953"
             ],
             [
              0.7777777777777778,
              "#fb9f3a"
             ],
             [
              0.8888888888888888,
              "#fdca26"
             ],
             [
              1,
              "#f0f921"
             ]
            ],
            "type": "heatmapgl"
           }
          ],
          "histogram": [
           {
            "marker": {
             "pattern": {
              "fillmode": "overlay",
              "size": 10,
              "solidity": 0.2
             }
            },
            "type": "histogram"
           }
          ],
          "histogram2d": [
           {
            "colorbar": {
             "outlinewidth": 0,
             "ticks": ""
            },
            "colorscale": [
             [
              0,
              "#0d0887"
             ],
             [
              0.1111111111111111,
              "#46039f"
             ],
             [
              0.2222222222222222,
              "#7201a8"
             ],
             [
              0.3333333333333333,
              "#9c179e"
             ],
             [
              0.4444444444444444,
              "#bd3786"
             ],
             [
              0.5555555555555556,
              "#d8576b"
             ],
             [
              0.6666666666666666,
              "#ed7953"
             ],
             [
              0.7777777777777778,
              "#fb9f3a"
             ],
             [
              0.8888888888888888,
              "#fdca26"
             ],
             [
              1,
              "#f0f921"
             ]
            ],
            "type": "histogram2d"
           }
          ],
          "histogram2dcontour": [
           {
            "colorbar": {
             "outlinewidth": 0,
             "ticks": ""
            },
            "colorscale": [
             [
              0,
              "#0d0887"
             ],
             [
              0.1111111111111111,
              "#46039f"
             ],
             [
              0.2222222222222222,
              "#7201a8"
             ],
             [
              0.3333333333333333,
              "#9c179e"
             ],
             [
              0.4444444444444444,
              "#bd3786"
             ],
             [
              0.5555555555555556,
              "#d8576b"
             ],
             [
              0.6666666666666666,
              "#ed7953"
             ],
             [
              0.7777777777777778,
              "#fb9f3a"
             ],
             [
              0.8888888888888888,
              "#fdca26"
             ],
             [
              1,
              "#f0f921"
             ]
            ],
            "type": "histogram2dcontour"
           }
          ],
          "mesh3d": [
           {
            "colorbar": {
             "outlinewidth": 0,
             "ticks": ""
            },
            "type": "mesh3d"
           }
          ],
          "parcoords": [
           {
            "line": {
             "colorbar": {
              "outlinewidth": 0,
              "ticks": ""
             }
            },
            "type": "parcoords"
           }
          ],
          "pie": [
           {
            "automargin": true,
            "type": "pie"
           }
          ],
          "scatter": [
           {
            "fillpattern": {
             "fillmode": "overlay",
             "size": 10,
             "solidity": 0.2
            },
            "type": "scatter"
           }
          ],
          "scatter3d": [
           {
            "line": {
             "colorbar": {
              "outlinewidth": 0,
              "ticks": ""
             }
            },
            "marker": {
             "colorbar": {
              "outlinewidth": 0,
              "ticks": ""
             }
            },
            "type": "scatter3d"
           }
          ],
          "scattercarpet": [
           {
            "marker": {
             "colorbar": {
              "outlinewidth": 0,
              "ticks": ""
             }
            },
            "type": "scattercarpet"
           }
          ],
          "scattergeo": [
           {
            "marker": {
             "colorbar": {
              "outlinewidth": 0,
              "ticks": ""
             }
            },
            "type": "scattergeo"
           }
          ],
          "scattergl": [
           {
            "marker": {
             "colorbar": {
              "outlinewidth": 0,
              "ticks": ""
             }
            },
            "type": "scattergl"
           }
          ],
          "scattermapbox": [
           {
            "marker": {
             "colorbar": {
              "outlinewidth": 0,
              "ticks": ""
             }
            },
            "type": "scattermapbox"
           }
          ],
          "scatterpolar": [
           {
            "marker": {
             "colorbar": {
              "outlinewidth": 0,
              "ticks": ""
             }
            },
            "type": "scatterpolar"
           }
          ],
          "scatterpolargl": [
           {
            "marker": {
             "colorbar": {
              "outlinewidth": 0,
              "ticks": ""
             }
            },
            "type": "scatterpolargl"
           }
          ],
          "scatterternary": [
           {
            "marker": {
             "colorbar": {
              "outlinewidth": 0,
              "ticks": ""
             }
            },
            "type": "scatterternary"
           }
          ],
          "surface": [
           {
            "colorbar": {
             "outlinewidth": 0,
             "ticks": ""
            },
            "colorscale": [
             [
              0,
              "#0d0887"
             ],
             [
              0.1111111111111111,
              "#46039f"
             ],
             [
              0.2222222222222222,
              "#7201a8"
             ],
             [
              0.3333333333333333,
              "#9c179e"
             ],
             [
              0.4444444444444444,
              "#bd3786"
             ],
             [
              0.5555555555555556,
              "#d8576b"
             ],
             [
              0.6666666666666666,
              "#ed7953"
             ],
             [
              0.7777777777777778,
              "#fb9f3a"
             ],
             [
              0.8888888888888888,
              "#fdca26"
             ],
             [
              1,
              "#f0f921"
             ]
            ],
            "type": "surface"
           }
          ],
          "table": [
           {
            "cells": {
             "fill": {
              "color": "#EBF0F8"
             },
             "line": {
              "color": "white"
             }
            },
            "header": {
             "fill": {
              "color": "#C8D4E3"
             },
             "line": {
              "color": "white"
             }
            },
            "type": "table"
           }
          ]
         },
         "layout": {
          "annotationdefaults": {
           "arrowcolor": "#2a3f5f",
           "arrowhead": 0,
           "arrowwidth": 1
          },
          "autotypenumbers": "strict",
          "coloraxis": {
           "colorbar": {
            "outlinewidth": 0,
            "ticks": ""
           }
          },
          "colorscale": {
           "diverging": [
            [
             0,
             "#8e0152"
            ],
            [
             0.1,
             "#c51b7d"
            ],
            [
             0.2,
             "#de77ae"
            ],
            [
             0.3,
             "#f1b6da"
            ],
            [
             0.4,
             "#fde0ef"
            ],
            [
             0.5,
             "#f7f7f7"
            ],
            [
             0.6,
             "#e6f5d0"
            ],
            [
             0.7,
             "#b8e186"
            ],
            [
             0.8,
             "#7fbc41"
            ],
            [
             0.9,
             "#4d9221"
            ],
            [
             1,
             "#276419"
            ]
           ],
           "sequential": [
            [
             0,
             "#0d0887"
            ],
            [
             0.1111111111111111,
             "#46039f"
            ],
            [
             0.2222222222222222,
             "#7201a8"
            ],
            [
             0.3333333333333333,
             "#9c179e"
            ],
            [
             0.4444444444444444,
             "#bd3786"
            ],
            [
             0.5555555555555556,
             "#d8576b"
            ],
            [
             0.6666666666666666,
             "#ed7953"
            ],
            [
             0.7777777777777778,
             "#fb9f3a"
            ],
            [
             0.8888888888888888,
             "#fdca26"
            ],
            [
             1,
             "#f0f921"
            ]
           ],
           "sequentialminus": [
            [
             0,
             "#0d0887"
            ],
            [
             0.1111111111111111,
             "#46039f"
            ],
            [
             0.2222222222222222,
             "#7201a8"
            ],
            [
             0.3333333333333333,
             "#9c179e"
            ],
            [
             0.4444444444444444,
             "#bd3786"
            ],
            [
             0.5555555555555556,
             "#d8576b"
            ],
            [
             0.6666666666666666,
             "#ed7953"
            ],
            [
             0.7777777777777778,
             "#fb9f3a"
            ],
            [
             0.8888888888888888,
             "#fdca26"
            ],
            [
             1,
             "#f0f921"
            ]
           ]
          },
          "colorway": [
           "#636efa",
           "#EF553B",
           "#00cc96",
           "#ab63fa",
           "#FFA15A",
           "#19d3f3",
           "#FF6692",
           "#B6E880",
           "#FF97FF",
           "#FECB52"
          ],
          "font": {
           "color": "#2a3f5f"
          },
          "geo": {
           "bgcolor": "white",
           "lakecolor": "white",
           "landcolor": "#E5ECF6",
           "showlakes": true,
           "showland": true,
           "subunitcolor": "white"
          },
          "hoverlabel": {
           "align": "left"
          },
          "hovermode": "closest",
          "mapbox": {
           "style": "light"
          },
          "paper_bgcolor": "white",
          "plot_bgcolor": "#E5ECF6",
          "polar": {
           "angularaxis": {
            "gridcolor": "white",
            "linecolor": "white",
            "ticks": ""
           },
           "bgcolor": "#E5ECF6",
           "radialaxis": {
            "gridcolor": "white",
            "linecolor": "white",
            "ticks": ""
           }
          },
          "scene": {
           "xaxis": {
            "backgroundcolor": "#E5ECF6",
            "gridcolor": "white",
            "gridwidth": 2,
            "linecolor": "white",
            "showbackground": true,
            "ticks": "",
            "zerolinecolor": "white"
           },
           "yaxis": {
            "backgroundcolor": "#E5ECF6",
            "gridcolor": "white",
            "gridwidth": 2,
            "linecolor": "white",
            "showbackground": true,
            "ticks": "",
            "zerolinecolor": "white"
           },
           "zaxis": {
            "backgroundcolor": "#E5ECF6",
            "gridcolor": "white",
            "gridwidth": 2,
            "linecolor": "white",
            "showbackground": true,
            "ticks": "",
            "zerolinecolor": "white"
           }
          },
          "shapedefaults": {
           "line": {
            "color": "#2a3f5f"
           }
          },
          "ternary": {
           "aaxis": {
            "gridcolor": "white",
            "linecolor": "white",
            "ticks": ""
           },
           "baxis": {
            "gridcolor": "white",
            "linecolor": "white",
            "ticks": ""
           },
           "bgcolor": "#E5ECF6",
           "caxis": {
            "gridcolor": "white",
            "linecolor": "white",
            "ticks": ""
           }
          },
          "title": {
           "x": 0.05
          },
          "xaxis": {
           "automargin": true,
           "gridcolor": "white",
           "linecolor": "white",
           "ticks": "",
           "title": {
            "standoff": 15
           },
           "zerolinecolor": "white",
           "zerolinewidth": 2
          },
          "yaxis": {
           "automargin": true,
           "gridcolor": "white",
           "linecolor": "white",
           "ticks": "",
           "title": {
            "standoff": 15
           },
           "zerolinecolor": "white",
           "zerolinewidth": 2
          }
         }
        },
        "title": {
         "text": "Vector Field on Sphere"
        }
       }
      }
     },
     "metadata": {},
     "output_type": "display_data"
    }
   ],
   "source": [
    "# Extract origin and vector components\n",
    "x0, y0, z0 = scaled_sphere_points[:, 0], scaled_sphere_points[:, 1], scaled_sphere_points[:, 2]\n",
    "u, v, w = unit_polarization[:, 0], unit_polarization[:, 1], unit_polarization[:, 2]\n",
    "\n",
    "fig = go.Figure()\n",
    "\n",
    "# Add 3D scatter of the sphere points\n",
    "fig.add_trace(go.Scatter3d(\n",
    "    x=x0, y=y0, z=z0,\n",
    "    mode='markers',\n",
    "    marker=dict(size=2, color='blue'),\n",
    "    name='Sphere points'\n",
    "))\n",
    "\n",
    "# Add vector field as cones\n",
    "fig.add_trace(go.Cone(\n",
    "    x=x0, y=y0, z=z0,\n",
    "    u=u, v=v, w=w,\n",
    "    sizemode=\"absolute\",\n",
    "    sizeref=0.5,  # Adjust this to control arrow size\n",
    "    anchor=\"tail\",  # Origin of vector is at the point\n",
    "    colorscale=\"Hot\",\n",
    "    showscale=False,\n",
    "    name='Vectors',\n",
    "    lighting=dict(ambient=1, diffuse=0, specular=0, roughness=0, fresnel=0)\n",
    "))\n",
    "\n",
    "fig.update_layout(\n",
    "    scene=dict(\n",
    "        xaxis_title='X', yaxis_title='Y', zaxis_title='Z',\n",
    "        aspectmode='data'\n",
    "    ),\n",
    "    title='Vector Field on Sphere'\n",
    ")\n",
    "\n",
    "fig.show()\n"
   ]
  },
  {
   "cell_type": "code",
   "execution_count": 38,
   "id": "cefec586",
   "metadata": {},
   "outputs": [
    {
     "data": {
      "image/png": "[encoded data removed]",
      "text/plain": [
       "<Figure size 3600x1200 with 1 Axes>"
      ]
     },
     "metadata": {},
     "output_type": "display_data"
    }
   ],
   "source": [
    "decay_rate_list_hedge = []\n",
    "most_subradiant_list = []\n",
    "distances = np.linspace(0, 2, 200)\n",
    "\n",
    "for d in distances[1:]:\n",
    "    eigvals_sphere12 , eigvec_sphere12 = Qchains.EigenstatesHedgehog(scaled_sphere_points, unit_polarization, d)\n",
    "    decay_rate = 2 * eigvals_sphere12.real\n",
    "    decay_rate_list_hedge.append(decay_rate)\n",
    "\n",
    "    subradiant = -np.max(2 * eigvals_sphere12.real)\n",
    "    most_subradiant_list.append(subradiant)\n",
    "    \n",
    "decay_rate_list_hedge_reversed = [-p for p in decay_rate_list_hedge]\n",
    "plt.figure(figsize=(12,4), dpi=300)\n",
    "plt.plot(distances[1:], decay_rate_list_hedge_reversed, '.', c = 'blue', markersize=3);\n",
    "plt.xlabel(r'$\\frac{d}{\\lambda_e}$', size = 15)\n",
    "plt.ylabel(r'$\\Gamma$ / $\\Gamma_0$', size = 15)\n",
    "plt.axvline(x = 1/2, ymin = 0, ymax=3, linestyle = '--')\n",
    "plt.title('Decay rates as function of interatomic distance in array')\n",
    "plt.yscale('log')\n",
    "#plt.ylim(0, 4)"
   ]
  },
  {
   "cell_type": "markdown",
   "id": "09d204bf",
   "metadata": {},
   "source": [
    "Degeneracy looks to be the reason for some of the wierd behaviour. "
   ]
  },
  {
   "cell_type": "code",
   "execution_count": 39,
   "id": "bae3a970",
   "metadata": {},
   "outputs": [
    {
     "data": {
      "image/png": "[encoded data removed]",
      "text/plain": [
       "<Figure size 640x480 with 1 Axes>"
      ]
     },
     "metadata": {},
     "output_type": "display_data"
    }
   ],
   "source": [
    "plt.plot(np.array([1.18164680e+01, 7.57978360e-05, 7.57978360e-05, 9.23330217e-03,\n",
    "        9.23330217e-03, 4.57126941e-02, 4.57126941e-02, 4.57126941e-02,\n",
    "        7.57978360e-05, 9.23330217e-03, 9.23330217e-03, 9.23330217e-03]), '.')\n",
    "plt.yscale('log')"
   ]
  },
  {
   "cell_type": "markdown",
   "id": "94a35052",
   "metadata": {},
   "source": [
    "#### In the sphere with an atom in the center"
   ]
  },
  {
   "cell_type": "code",
   "execution_count": 40,
   "id": "fb511fa5",
   "metadata": {},
   "outputs": [
    {
     "data": {
      "image/png": "[encoded data removed]",
      "text/plain": [
       "<Figure size 3600x1200 with 1 Axes>"
      ]
     },
     "metadata": {},
     "output_type": "display_data"
    }
   ],
   "source": [
    "dipole_hatvec = np.array([1, 0, 0])\n",
    "decay_rate_list = []\n",
    "most_subradiant_list = []\n",
    "distances = np.linspace(0, 2, 200) #ik gang med pi, da det gøre i funktionen Qchains.FindEigenstates\n",
    "\n",
    "for d in distances[1:]:\n",
    "    eigvals_sphere12 , eigvec_sphere12 = Qchains.FindEigenstates(weird_sphere_scaled, dipole_hatvec, d)\n",
    "    decay_rate = 2 * eigvals_sphere12.real\n",
    "    decay_rate_list.append(decay_rate)\n",
    "\n",
    "    subradiant = -np.max(2 * eigvals_sphere12.real)\n",
    "    most_subradiant_list.append(subradiant)\n",
    "    \n",
    "\n",
    "decay_rate_list_reversed = [-p for p in decay_rate_list]\n",
    "plt.figure(figsize=(12,4), dpi=300)\n",
    "plt.plot(distances[1:], decay_rate_list_reversed, '.', c = 'blue', markersize=3);\n",
    "plt.xlabel(r'$\\frac{d}{\\lambda_e}$', size = 15)\n",
    "plt.ylabel(r'$\\Gamma$ / $\\Gamma_0$', size = 15)\n",
    "plt.axvline(x = 1/2, ymin = 0, ymax=3, linestyle = '--')\n",
    "plt.title('Decay rates as function of interatomic distance in sphere with center')\n",
    "plt.yscale('log')"
   ]
  }
 ],
 "metadata": {
  "kernelspec": {
   "display_name": "base",
   "language": "python",
   "name": "python3"
  },
  "language_info": {
   "codemirror_mode": {
    "name": "ipython",
    "version": 3
   },
   "file_extension": ".py",
   "mimetype": "text/x-python",
   "name": "python",
   "nbconvert_exporter": "python",
   "pygments_lexer": "ipython3",
   "version": "3.11.11"
  }
 },
 "nbformat": 4,
 "nbformat_minor": 5
}
