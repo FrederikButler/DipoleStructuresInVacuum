{
 "cells": [
  {
   "cell_type": "code",
   "execution_count": 1,
   "id": "597e41c8",
   "metadata": {},
   "outputs": [],
   "source": [
    "import Qchains\n",
    "import matplotlib.pyplot as plt"
   ]
  },
  {
   "cell_type": "markdown",
   "id": "e0b8350c",
   "metadata": {},
   "source": [
    "# Stars"
   ]
  },
  {
   "cell_type": "code",
   "execution_count": 2,
   "id": "d1161fc1",
   "metadata": {},
   "outputs": [],
   "source": [
    "import numpy as np\n",
    "import plotly.graph_objects as go\n",
    "\n",
    "def StarGenerator(n_points, showStructure=False):\n",
    "    if n_points < 3:\n",
    "        raise ValueError(\"Polygon must have at least 3 points.\")\n",
    "\n",
    "    # Step 1: Regular polygon on unit circle\n",
    "    angles = np.linspace(0, 2 * np.pi, n_points, endpoint=False)\n",
    "    x = np.cos(angles)\n",
    "    y = np.sin(angles)\n",
    "    points = np.stack((x, y), axis=-1)\n",
    "    \n",
    "    # Scale so edge length = 1\n",
    "    side_length = np.linalg.norm(points[0] - points[1])\n",
    "    scale = 1.0 / side_length\n",
    "    points *= scale\n",
    "    points_3d = np.hstack((points, np.zeros((n_points, 1))))\n",
    "\n",
    "    # Step 2: Add triangle peaks\n",
    "    triangle_peaks = []\n",
    "    for i in range(n_points):\n",
    "        p1 = points_3d[i]\n",
    "        p2 = points_3d[(i + 1) % n_points]  # wrap around\n",
    "\n",
    "        # Midpoint of edge\n",
    "        mid = 0.5 * (p1 + p2)\n",
    "\n",
    "        # Direction of edge\n",
    "        edge_vec = p2 - p1\n",
    "        edge_vec /= np.linalg.norm(edge_vec)\n",
    "\n",
    "        # Perpendicular direction (normal to the polygon plane)\n",
    "        normal_vec = np.array([0, 0, 1])  # z-direction\n",
    "        outward_dir = np.cross(edge_vec, normal_vec)\n",
    "        outward_dir /= np.linalg.norm(outward_dir)\n",
    "\n",
    "        # Height of isosceles triangle from base to tip:\n",
    "        # For base length b and legs L:\n",
    "        # height h = sqrt(L^2 - (b/2)^2)\n",
    "        b = np.linalg.norm(p2 - p1)\n",
    "        L = 1.0  # desired leg length\n",
    "        h = np.sqrt(L**2 - (b / 2)**2)\n",
    "\n",
    "        # Triangle peak position\n",
    "        peak = mid + h * outward_dir\n",
    "        triangle_peaks.append(peak)\n",
    "\n",
    "    triangle_peaks = np.array(triangle_peaks)\n",
    "\n",
    "    all_points = np.vstack((points_3d, triangle_peaks))\n",
    "\n",
    "\n",
    "    if showStructure:\n",
    "        fig = go.Figure()\n",
    "\n",
    "        # Original base points (orange)\n",
    "      # Close the ring loop\n",
    "        ring_closed = np.vstack([points_3d, points_3d[0:1]])\n",
    "\n",
    "        fig.add_trace(go.Scatter3d(\n",
    "            x=ring_closed[:, 0], y=ring_closed[:, 1], z=ring_closed[:, 2],\n",
    "            mode='markers+lines',\n",
    "            marker=dict(size=5, color='orange'),\n",
    "            line=dict(color='orange'),\n",
    "            name='Ring vertices'\n",
    "        ))\n",
    "\n",
    "        # Close the triangle peak loop\n",
    "        peaks_closed = np.vstack([triangle_peaks, triangle_peaks[0:1]])\n",
    "\n",
    "        fig.add_trace(go.Scatter3d(\n",
    "            x=peaks_closed[:, 0], y=peaks_closed[:, 1], z=peaks_closed[:, 2],\n",
    "            mode='markers+lines',\n",
    "            marker=dict(size=5, color='green'),\n",
    "            line=dict(color='green'),\n",
    "            name='Triangle peaks'\n",
    "        ))\n",
    "\n",
    "        fig.update_layout(\n",
    "            title=\"Star Polygon Structure\",\n",
    "            scene=dict(xaxis_title=\"X\", yaxis_title=\"Y\", zaxis_title=\"Z\"),\n",
    "            margin=dict(l=0, r=0, b=0, t=40)\n",
    "        )\n",
    "        fig.show()\n",
    "\n",
    "    return all_points\n"
   ]
  },
  {
   "cell_type": "code",
   "execution_count": 3,
   "id": "e7544111",
   "metadata": {},
   "outputs": [
    {
     "data": {
      "application/vnd.plotly.v1+json": {
       "config": {
        "plotlyServerURL": "https://plot.ly"
       },
       "data": [
        {
         "line": {
          "color": "orange"
         },
         "marker": {
          "color": "orange",
          "size": 5
         },
         "mode": "markers+lines",
         "name": "Ring vertices",
         "type": "scatter3d",
         "x": [
          1.0000000000000002,
          0.5000000000000002,
          -0.49999999999999994,
          -1.0000000000000002,
          -0.5000000000000006,
          0.49999999999999944,
          1.0000000000000002
         ],
         "y": [
          0,
          0.8660254037844388,
          0.8660254037844389,
          1.2246467991473535e-16,
          -0.8660254037844386,
          -0.8660254037844393,
          0
         ],
         "z": [
          0,
          0,
          0,
          0,
          0,
          0,
          0
         ]
        },
        {
         "line": {
          "color": "green"
         },
         "marker": {
          "color": "green",
          "size": 5
         },
         "mode": "markers+lines",
         "name": "Triangle peaks",
         "type": "scatter3d",
         "x": [
          1.5,
          2.3492601239732273e-16,
          -1.5,
          -1.5000000000000004,
          -1.1320003182276475e-15,
          1.4999999999999996,
          1.5
         ],
         "y": [
          0.8660254037844386,
          1.7320508075688774,
          0.8660254037844389,
          -0.8660254037844384,
          -1.7320508075688776,
          -0.866025403784439,
          0.8660254037844386
         ],
         "z": [
          0,
          0,
          0,
          0,
          0,
          0,
          0
         ]
        }
       ],
       "layout": {
        "margin": {
         "b": 0,
         "l": 0,
         "r": 0,
         "t": 40
        },
        "scene": {
         "xaxis": {
          "title": {
           "text": "X"
          }
         },
         "yaxis": {
          "title": {
           "text": "Y"
          }
         },
         "zaxis": {
          "title": {
           "text": "Z"
          }
         }
        },
        "template": {
         "data": {
          "bar": [
           {
            "error_x": {
             "color": "#2a3f5f"
            },
            "error_y": {
             "color": "#2a3f5f"
            },
            "marker": {
             "line": {
              "color": "#E5ECF6",
              "width": 0.5
             },
             "pattern": {
              "fillmode": "overlay",
              "size": 10,
              "solidity": 0.2
             }
            },
            "type": "bar"
           }
          ],
          "barpolar": [
           {
            "marker": {
             "line": {
              "color": "#E5ECF6",
              "width": 0.5
             },
             "pattern": {
              "fillmode": "overlay",
              "size": 10,
              "solidity": 0.2
             }
            },
            "type": "barpolar"
           }
          ],
          "carpet": [
           {
            "aaxis": {
             "endlinecolor": "#2a3f5f",
             "gridcolor": "white",
             "linecolor": "white",
             "minorgridcolor": "white",
             "startlinecolor": "#2a3f5f"
            },
            "baxis": {
             "endlinecolor": "#2a3f5f",
             "gridcolor": "white",
             "linecolor": "white",
             "minorgridcolor": "white",
             "startlinecolor": "#2a3f5f"
            },
            "type": "carpet"
           }
          ],
          "choropleth": [
           {
            "colorbar": {
             "outlinewidth": 0,
             "ticks": ""
            },
            "type": "choropleth"
           }
          ],
          "contour": [
           {
            "colorbar": {
             "outlinewidth": 0,
             "ticks": ""
            },
            "colorscale": [
             [
              0,
              "#0d0887"
             ],
             [
              0.1111111111111111,
              "#46039f"
             ],
             [
              0.2222222222222222,
              "#7201a8"
             ],
             [
              0.3333333333333333,
              "#9c179e"
             ],
             [
              0.4444444444444444,
              "#bd3786"
             ],
             [
              0.5555555555555556,
              "#d8576b"
             ],
             [
              0.6666666666666666,
              "#ed7953"
             ],
             [
              0.7777777777777778,
              "#fb9f3a"
             ],
             [
              0.8888888888888888,
              "#fdca26"
             ],
             [
              1,
              "#f0f921"
             ]
            ],
            "type": "contour"
           }
          ],
          "contourcarpet": [
           {
            "colorbar": {
             "outlinewidth": 0,
             "ticks": ""
            },
            "type": "contourcarpet"
           }
          ],
          "heatmap": [
           {
            "colorbar": {
             "outlinewidth": 0,
             "ticks": ""
            },
            "colorscale": [
             [
              0,
              "#0d0887"
             ],
             [
              0.1111111111111111,
              "#46039f"
             ],
             [
              0.2222222222222222,
              "#7201a8"
             ],
             [
              0.3333333333333333,
              "#9c179e"
             ],
             [
              0.4444444444444444,
              "#bd3786"
             ],
             [
              0.5555555555555556,
              "#d8576b"
             ],
             [
              0.6666666666666666,
              "#ed7953"
             ],
             [
              0.7777777777777778,
              "#fb9f3a"
             ],
             [
              0.8888888888888888,
              "#fdca26"
             ],
             [
              1,
              "#f0f921"
             ]
            ],
            "type": "heatmap"
           }
          ],
          "heatmapgl": [
           {
            "colorbar": {
             "outlinewidth": 0,
             "ticks": ""
            },
            "colorscale": [
             [
              0,
              "#0d0887"
             ],
             [
              0.1111111111111111,
              "#46039f"
             ],
             [
              0.2222222222222222,
              "#7201a8"
             ],
             [
              0.3333333333333333,
              "#9c179e"
             ],
             [
              0.4444444444444444,
              "#bd3786"
             ],
             [
              0.5555555555555556,
              "#d8576b"
             ],
             [
              0.6666666666666666,
              "#ed7953"
             ],
             [
              0.7777777777777778,
              "#fb9f3a"
             ],
             [
              0.8888888888888888,
              "#fdca26"
             ],
             [
              1,
              "#f0f921"
             ]
            ],
            "type": "heatmapgl"
           }
          ],
          "histogram": [
           {
            "marker": {
             "pattern": {
              "fillmode": "overlay",
              "size": 10,
              "solidity": 0.2
             }
            },
            "type": "histogram"
           }
          ],
          "histogram2d": [
           {
            "colorbar": {
             "outlinewidth": 0,
             "ticks": ""
            },
            "colorscale": [
             [
              0,
              "#0d0887"
             ],
             [
              0.1111111111111111,
              "#46039f"
             ],
             [
              0.2222222222222222,
              "#7201a8"
             ],
             [
              0.3333333333333333,
              "#9c179e"
             ],
             [
              0.4444444444444444,
              "#bd3786"
             ],
             [
              0.5555555555555556,
              "#d8576b"
             ],
             [
              0.6666666666666666,
              "#ed7953"
             ],
             [
              0.7777777777777778,
              "#fb9f3a"
             ],
             [
              0.8888888888888888,
              "#fdca26"
             ],
             [
              1,
              "#f0f921"
             ]
            ],
            "type": "histogram2d"
           }
          ],
          "histogram2dcontour": [
           {
            "colorbar": {
             "outlinewidth": 0,
             "ticks": ""
            },
            "colorscale": [
             [
              0,
              "#0d0887"
             ],
             [
              0.1111111111111111,
              "#46039f"
             ],
             [
              0.2222222222222222,
              "#7201a8"
             ],
             [
              0.3333333333333333,
              "#9c179e"
             ],
             [
              0.4444444444444444,
              "#bd3786"
             ],
             [
              0.5555555555555556,
              "#d8576b"
             ],
             [
              0.6666666666666666,
              "#ed7953"
             ],
             [
              0.7777777777777778,
              "#fb9f3a"
             ],
             [
              0.8888888888888888,
              "#fdca26"
             ],
             [
              1,
              "#f0f921"
             ]
            ],
            "type": "histogram2dcontour"
           }
          ],
          "mesh3d": [
           {
            "colorbar": {
             "outlinewidth": 0,
             "ticks": ""
            },
            "type": "mesh3d"
           }
          ],
          "parcoords": [
           {
            "line": {
             "colorbar": {
              "outlinewidth": 0,
              "ticks": ""
             }
            },
            "type": "parcoords"
           }
          ],
          "pie": [
           {
            "automargin": true,
            "type": "pie"
           }
          ],
          "scatter": [
           {
            "fillpattern": {
             "fillmode": "overlay",
             "size": 10,
             "solidity": 0.2
            },
            "type": "scatter"
           }
          ],
          "scatter3d": [
           {
            "line": {
             "colorbar": {
              "outlinewidth": 0,
              "ticks": ""
             }
            },
            "marker": {
             "colorbar": {
              "outlinewidth": 0,
              "ticks": ""
             }
            },
            "type": "scatter3d"
           }
          ],
          "scattercarpet": [
           {
            "marker": {
             "colorbar": {
              "outlinewidth": 0,
              "ticks": ""
             }
            },
            "type": "scattercarpet"
           }
          ],
          "scattergeo": [
           {
            "marker": {
             "colorbar": {
              "outlinewidth": 0,
              "ticks": ""
             }
            },
            "type": "scattergeo"
           }
          ],
          "scattergl": [
           {
            "marker": {
             "colorbar": {
              "outlinewidth": 0,
              "ticks": ""
             }
            },
            "type": "scattergl"
           }
          ],
          "scattermapbox": [
           {
            "marker": {
             "colorbar": {
              "outlinewidth": 0,
              "ticks": ""
             }
            },
            "type": "scattermapbox"
           }
          ],
          "scatterpolar": [
           {
            "marker": {
             "colorbar": {
              "outlinewidth": 0,
              "ticks": ""
             }
            },
            "type": "scatterpolar"
           }
          ],
          "scatterpolargl": [
           {
            "marker": {
             "colorbar": {
              "outlinewidth": 0,
              "ticks": ""
             }
            },
            "type": "scatterpolargl"
           }
          ],
          "scatterternary": [
           {
            "marker": {
             "colorbar": {
              "outlinewidth": 0,
              "ticks": ""
             }
            },
            "type": "scatterternary"
           }
          ],
          "surface": [
           {
            "colorbar": {
             "outlinewidth": 0,
             "ticks": ""
            },
            "colorscale": [
             [
              0,
              "#0d0887"
             ],
             [
              0.1111111111111111,
              "#46039f"
             ],
             [
              0.2222222222222222,
              "#7201a8"
             ],
             [
              0.3333333333333333,
              "#9c179e"
             ],
             [
              0.4444444444444444,
              "#bd3786"
             ],
             [
              0.5555555555555556,
              "#d8576b"
             ],
             [
              0.6666666666666666,
              "#ed7953"
             ],
             [
              0.7777777777777778,
              "#fb9f3a"
             ],
             [
              0.8888888888888888,
              "#fdca26"
             ],
             [
              1,
              "#f0f921"
             ]
            ],
            "type": "surface"
           }
          ],
          "table": [
           {
            "cells": {
             "fill": {
              "color": "#EBF0F8"
             },
             "line": {
              "color": "white"
             }
            },
            "header": {
             "fill": {
              "color": "#C8D4E3"
             },
             "line": {
              "color": "white"
             }
            },
            "type": "table"
           }
          ]
         },
         "layout": {
          "annotationdefaults": {
           "arrowcolor": "#2a3f5f",
           "arrowhead": 0,
           "arrowwidth": 1
          },
          "autotypenumbers": "strict",
          "coloraxis": {
           "colorbar": {
            "outlinewidth": 0,
            "ticks": ""
           }
          },
          "colorscale": {
           "diverging": [
            [
             0,
             "#8e0152"
            ],
            [
             0.1,
             "#c51b7d"
            ],
            [
             0.2,
             "#de77ae"
            ],
            [
             0.3,
             "#f1b6da"
            ],
            [
             0.4,
             "#fde0ef"
            ],
            [
             0.5,
             "#f7f7f7"
            ],
            [
             0.6,
             "#e6f5d0"
            ],
            [
             0.7,
             "#b8e186"
            ],
            [
             0.8,
             "#7fbc41"
            ],
            [
             0.9,
             "#4d9221"
            ],
            [
             1,
             "#276419"
            ]
           ],
           "sequential": [
            [
             0,
             "#0d0887"
            ],
            [
             0.1111111111111111,
             "#46039f"
            ],
            [
             0.2222222222222222,
             "#7201a8"
            ],
            [
             0.3333333333333333,
             "#9c179e"
            ],
            [
             0.4444444444444444,
             "#bd3786"
            ],
            [
             0.5555555555555556,
             "#d8576b"
            ],
            [
             0.6666666666666666,
             "#ed7953"
            ],
            [
             0.7777777777777778,
             "#fb9f3a"
            ],
            [
             0.8888888888888888,
             "#fdca26"
            ],
            [
             1,
             "#f0f921"
            ]
           ],
           "sequentialminus": [
            [
             0,
             "#0d0887"
            ],
            [
             0.1111111111111111,
             "#46039f"
            ],
            [
             0.2222222222222222,
             "#7201a8"
            ],
            [
             0.3333333333333333,
             "#9c179e"
            ],
            [
             0.4444444444444444,
             "#bd3786"
            ],
            [
             0.5555555555555556,
             "#d8576b"
            ],
            [
             0.6666666666666666,
             "#ed7953"
            ],
            [
             0.7777777777777778,
             "#fb9f3a"
            ],
            [
             0.8888888888888888,
             "#fdca26"
            ],
            [
             1,
             "#f0f921"
            ]
           ]
          },
          "colorway": [
           "#636efa",
           "#EF553B",
           "#00cc96",
           "#ab63fa",
           "#FFA15A",
           "#19d3f3",
           "#FF6692",
           "#B6E880",
           "#FF97FF",
           "#FECB52"
          ],
          "font": {
           "color": "#2a3f5f"
          },
          "geo": {
           "bgcolor": "white",
           "lakecolor": "white",
           "landcolor": "#E5ECF6",
           "showlakes": true,
           "showland": true,
           "subunitcolor": "white"
          },
          "hoverlabel": {
           "align": "left"
          },
          "hovermode": "closest",
          "mapbox": {
           "style": "light"
          },
          "paper_bgcolor": "white",
          "plot_bgcolor": "#E5ECF6",
          "polar": {
           "angularaxis": {
            "gridcolor": "white",
            "linecolor": "white",
            "ticks": ""
           },
           "bgcolor": "#E5ECF6",
           "radialaxis": {
            "gridcolor": "white",
            "linecolor": "white",
            "ticks": ""
           }
          },
          "scene": {
           "xaxis": {
            "backgroundcolor": "#E5ECF6",
            "gridcolor": "white",
            "gridwidth": 2,
            "linecolor": "white",
            "showbackground": true,
            "ticks": "",
            "zerolinecolor": "white"
           },
           "yaxis": {
            "backgroundcolor": "#E5ECF6",
            "gridcolor": "white",
            "gridwidth": 2,
            "linecolor": "white",
            "showbackground": true,
            "ticks": "",
            "zerolinecolor": "white"
           },
           "zaxis": {
            "backgroundcolor": "#E5ECF6",
            "gridcolor": "white",
            "gridwidth": 2,
            "linecolor": "white",
            "showbackground": true,
            "ticks": "",
            "zerolinecolor": "white"
           }
          },
          "shapedefaults": {
           "line": {
            "color": "#2a3f5f"
           }
          },
          "ternary": {
           "aaxis": {
            "gridcolor": "white",
            "linecolor": "white",
            "ticks": ""
           },
           "baxis": {
            "gridcolor": "white",
            "linecolor": "white",
            "ticks": ""
           },
           "bgcolor": "#E5ECF6",
           "caxis": {
            "gridcolor": "white",
            "linecolor": "white",
            "ticks": ""
           }
          },
          "title": {
           "x": 0.05
          },
          "xaxis": {
           "automargin": true,
           "gridcolor": "white",
           "linecolor": "white",
           "ticks": "",
           "title": {
            "standoff": 15
           },
           "zerolinecolor": "white",
           "zerolinewidth": 2
          },
          "yaxis": {
           "automargin": true,
           "gridcolor": "white",
           "linecolor": "white",
           "ticks": "",
           "title": {
            "standoff": 15
           },
           "zerolinecolor": "white",
           "zerolinewidth": 2
          }
         }
        },
        "title": {
         "text": "Star Polygon Structure"
        }
       }
      }
     },
     "metadata": {},
     "output_type": "display_data"
    }
   ],
   "source": [
    "star_points = StarGenerator(6, True)"
   ]
  },
  {
   "cell_type": "code",
   "execution_count": 4,
   "id": "b3aaef4f",
   "metadata": {},
   "outputs": [
    {
     "data": {
      "text/plain": [
       "0.9999999999999999"
      ]
     },
     "execution_count": 4,
     "metadata": {},
     "output_type": "execute_result"
    }
   ],
   "source": [
    "np.linalg.norm(star_points[4] - star_points[9])"
   ]
  },
  {
   "cell_type": "code",
   "execution_count": 5,
   "id": "1df26419",
   "metadata": {},
   "outputs": [
    {
     "data": {
      "text/plain": [
       "array([1., 0., 0.])"
      ]
     },
     "execution_count": 5,
     "metadata": {},
     "output_type": "execute_result"
    }
   ],
   "source": [
    "star_points[0]"
   ]
  },
  {
   "cell_type": "code",
   "execution_count": 6,
   "id": "bdbfd1ad",
   "metadata": {},
   "outputs": [],
   "source": [
    "import numpy as np\n",
    "import plotly.graph_objects as go\n",
    "\n",
    "def StarGenerator2(n_points, showStructure=False):\n",
    "    if n_points < 3:\n",
    "        raise ValueError(\"Polygon must have at least 3 points.\")\n",
    "\n",
    "    # Step 1: Regular polygon on unit circle\n",
    "    angles = np.linspace(0, 2 * np.pi, n_points, endpoint=False)\n",
    "    x = np.cos(angles)\n",
    "    y = np.sin(angles)\n",
    "    points = np.stack((x, y), axis=-1)\n",
    "    \n",
    "    # Scale so edge length = 1\n",
    "    side_length = np.linalg.norm(points[0] - points[1])\n",
    "    scale = 1.0 / side_length\n",
    "    points *= scale\n",
    "    points_3d = np.hstack((points, np.zeros((n_points, 1))))\n",
    "\n",
    "    # Step 2: Add triangle peaks\n",
    "    triangle_peaks = []\n",
    "    for i in range(n_points):\n",
    "        p1 = points_3d[i]\n",
    "        p2 = points_3d[(i + 1) % n_points]  # wrap around\n",
    "\n",
    "        # Midpoint of edge\n",
    "        mid = 0.5 * (p1 + p2)\n",
    "\n",
    "        # Direction of edge\n",
    "        edge_vec = p2 - p1\n",
    "        edge_vec /= np.linalg.norm(edge_vec)\n",
    "\n",
    "        # Perpendicular direction (normal to the polygon plane)\n",
    "        normal_vec = np.array([0, 0, 1])  # z-direction\n",
    "        outward_dir = np.cross(edge_vec, normal_vec)\n",
    "        outward_dir /= np.linalg.norm(outward_dir)\n",
    "\n",
    "        # Height of isosceles triangle from base to tip:\n",
    "        # For base length b and legs L:\n",
    "        # height h = sqrt(L^2 - (b/2)^2)\n",
    "        b = np.linalg.norm(p2 - p1)\n",
    "        L = 1.0  # desired leg length\n",
    "        h = np.sqrt(L**2 - (b / 2)**2)\n",
    "\n",
    "        # Triangle peak position\n",
    "        peak = mid + h * outward_dir\n",
    "        triangle_peaks.append(peak)\n",
    "\n",
    "    triangle_peaks = np.array(triangle_peaks)\n",
    "\n",
    "    all_points = np.vstack((points_3d, triangle_peaks))\n",
    "\n",
    "\n",
    "    if showStructure:\n",
    "        fig = go.Figure()\n",
    "\n",
    "        # Original base points (orange)\n",
    "      # Close the ring loop\n",
    "        ring_closed = np.vstack([points_3d, points_3d[0:1]])\n",
    "\n",
    "        # Connect each peak to its base pair\n",
    "        for i in range(n_points):\n",
    "            peak = triangle_peaks[i]\n",
    "            base1 = points_3d[i]\n",
    "            base2 = points_3d[(i + 1) % n_points]\n",
    "\n",
    "            for base in [base1, base2]:\n",
    "                fig.add_trace(go.Scatter3d(\n",
    "                    x=[base[0], peak[0]],\n",
    "                    y=[base[1], peak[1]],\n",
    "                    z=[base[2], peak[2]],\n",
    "                    mode='lines',\n",
    "                    line=dict(color='black', width=2),\n",
    "                    showlegend=False\n",
    "                ))\n",
    "\n",
    "\n",
    "        fig.add_trace(go.Scatter3d(\n",
    "            x=ring_closed[:, 0], y=ring_closed[:, 1], z=ring_closed[:, 2],\n",
    "            mode='markers',\n",
    "            marker=dict(size=5, color='orange'),\n",
    "            #line=dict(color='orange'),\n",
    "            name='Ring vertices'\n",
    "        ))\n",
    "\n",
    "        # Close the triangle peak loop\n",
    "        peaks_closed = np.vstack([triangle_peaks, triangle_peaks[0:1]])\n",
    "\n",
    "        fig.add_trace(go.Scatter3d(\n",
    "            x=peaks_closed[:, 0], y=peaks_closed[:, 1], z=peaks_closed[:, 2],\n",
    "            mode='markers',\n",
    "            marker=dict(size=5, color='green'),\n",
    "            #line=dict(color='green'),\n",
    "            name='Triangle peaks'\n",
    "        ))\n",
    "\n",
    "        fig.update_layout(\n",
    "            title=\"Star Polygon Structure\",\n",
    "            scene=dict(xaxis_title=\"X\", yaxis_title=\"Y\", zaxis_title=\"Z\"),\n",
    "            margin=dict(l=0, r=0, b=0, t=40)\n",
    "        )\n",
    "        fig.show()\n",
    "\n",
    "    return all_points\n"
   ]
  },
  {
   "cell_type": "code",
   "execution_count": 7,
   "id": "04a136be",
   "metadata": {},
   "outputs": [
    {
     "data": {
      "application/vnd.plotly.v1+json": {
       "config": {
        "plotlyServerURL": "https://plot.ly"
       },
       "data": [
        {
         "line": {
          "color": "black",
          "width": 2
         },
         "mode": "lines",
         "showlegend": false,
         "type": "scatter3d",
         "x": [
          1.3065629648763766,
          1.9153243938850975
         ],
         "y": [
          0,
          0.7933533402912352
         ],
         "z": [
          0,
          0
         ]
        },
        {
         "line": {
          "color": "black",
          "width": 2
         },
         "mode": "lines",
         "showlegend": false,
         "type": "scatter3d",
         "x": [
          0.9238795325112868,
          1.9153243938850975
         ],
         "y": [
          0.9238795325112867,
          0.7933533402912352
         ],
         "z": [
          0,
          0
         ]
        },
        {
         "line": {
          "color": "black",
          "width": 2
         },
         "mode": "lines",
         "showlegend": false,
         "type": "scatter3d",
         "x": [
          0.9238795325112868,
          0.7933533402912354
         ],
         "y": [
          0.9238795325112867,
          1.9153243938850972
         ],
         "z": [
          0,
          0
         ]
        },
        {
         "line": {
          "color": "black",
          "width": 2
         },
         "mode": "lines",
         "showlegend": false,
         "type": "scatter3d",
         "x": [
          8.000390764101651e-17,
          0.7933533402912354
         ],
         "y": [
          1.3065629648763766,
          1.9153243938850972
         ],
         "z": [
          0,
          0
         ]
        },
        {
         "line": {
          "color": "black",
          "width": 2
         },
         "mode": "lines",
         "showlegend": false,
         "type": "scatter3d",
         "x": [
          8.000390764101651e-17,
          -0.793353340291235
         ],
         "y": [
          1.3065629648763766,
          1.9153243938850975
         ],
         "z": [
          0,
          0
         ]
        },
        {
         "line": {
          "color": "black",
          "width": 2
         },
         "mode": "lines",
         "showlegend": false,
         "type": "scatter3d",
         "x": [
          -0.9238795325112867,
          -0.793353340291235
         ],
         "y": [
          0.9238795325112868,
          1.9153243938850975
         ],
         "z": [
          0,
          0
         ]
        },
        {
         "line": {
          "color": "black",
          "width": 2
         },
         "mode": "lines",
         "showlegend": false,
         "type": "scatter3d",
         "x": [
          -0.9238795325112867,
          -1.9153243938850972
         ],
         "y": [
          0.9238795325112868,
          0.7933533402912354
         ],
         "z": [
          0,
          0
         ]
        },
        {
         "line": {
          "color": "black",
          "width": 2
         },
         "mode": "lines",
         "showlegend": false,
         "type": "scatter3d",
         "x": [
          -1.3065629648763766,
          -1.9153243938850972
         ],
         "y": [
          1.6000781528203302e-16,
          0.7933533402912354
         ],
         "z": [
          0,
          0
         ]
        },
        {
         "line": {
          "color": "black",
          "width": 2
         },
         "mode": "lines",
         "showlegend": false,
         "type": "scatter3d",
         "x": [
          -1.3065629648763766,
          -1.9153243938850975
         ],
         "y": [
          1.6000781528203302e-16,
          -0.7933533402912349
         ],
         "z": [
          0,
          0
         ]
        },
        {
         "line": {
          "color": "black",
          "width": 2
         },
         "mode": "lines",
         "showlegend": false,
         "type": "scatter3d",
         "x": [
          -0.923879532511287,
          -1.9153243938850975
         ],
         "y": [
          -0.9238795325112867,
          -0.7933533402912349
         ],
         "z": [
          0,
          0
         ]
        },
        {
         "line": {
          "color": "black",
          "width": 2
         },
         "mode": "lines",
         "showlegend": false,
         "type": "scatter3d",
         "x": [
          -0.923879532511287,
          -0.7933533402912354
         ],
         "y": [
          -0.9238795325112867,
          -1.9153243938850972
         ],
         "z": [
          0,
          0
         ]
        },
        {
         "line": {
          "color": "black",
          "width": 2
         },
         "mode": "lines",
         "showlegend": false,
         "type": "scatter3d",
         "x": [
          -2.400117229230495e-16,
          -0.7933533402912354
         ],
         "y": [
          -1.3065629648763766,
          -1.9153243938850972
         ],
         "z": [
          0,
          0
         ]
        },
        {
         "line": {
          "color": "black",
          "width": 2
         },
         "mode": "lines",
         "showlegend": false,
         "type": "scatter3d",
         "x": [
          -2.400117229230495e-16,
          0.7933533402912348
         ],
         "y": [
          -1.3065629648763766,
          -1.9153243938850975
         ],
         "z": [
          0,
          0
         ]
        },
        {
         "line": {
          "color": "black",
          "width": 2
         },
         "mode": "lines",
         "showlegend": false,
         "type": "scatter3d",
         "x": [
          0.9238795325112865,
          0.7933533402912348
         ],
         "y": [
          -0.923879532511287,
          -1.9153243938850975
         ],
         "z": [
          0,
          0
         ]
        },
        {
         "line": {
          "color": "black",
          "width": 2
         },
         "mode": "lines",
         "showlegend": false,
         "type": "scatter3d",
         "x": [
          0.9238795325112865,
          1.915324393885097
         ],
         "y": [
          -0.923879532511287,
          -0.7933533402912354
         ],
         "z": [
          0,
          0
         ]
        },
        {
         "line": {
          "color": "black",
          "width": 2
         },
         "mode": "lines",
         "showlegend": false,
         "type": "scatter3d",
         "x": [
          1.3065629648763766,
          1.915324393885097
         ],
         "y": [
          0,
          -0.7933533402912354
         ],
         "z": [
          0,
          0
         ]
        },
        {
         "marker": {
          "color": "orange",
          "size": 5
         },
         "mode": "markers",
         "name": "Ring vertices",
         "type": "scatter3d",
         "x": [
          1.3065629648763766,
          0.9238795325112868,
          8.000390764101651e-17,
          -0.9238795325112867,
          -1.3065629648763766,
          -0.923879532511287,
          -2.400117229230495e-16,
          0.9238795325112865,
          1.3065629648763766
         ],
         "y": [
          0,
          0.9238795325112867,
          1.3065629648763766,
          0.9238795325112868,
          1.6000781528203302e-16,
          -0.9238795325112867,
          -1.3065629648763766,
          -0.923879532511287,
          0
         ],
         "z": [
          0,
          0,
          0,
          0,
          0,
          0,
          0,
          0,
          0
         ]
        },
        {
         "marker": {
          "color": "green",
          "size": 5
         },
         "mode": "markers",
         "name": "Triangle peaks",
         "type": "scatter3d",
         "x": [
          1.9153243938850975,
          0.7933533402912354,
          -0.793353340291235,
          -1.9153243938850972,
          -1.9153243938850975,
          -0.7933533402912354,
          0.7933533402912348,
          1.915324393885097,
          1.9153243938850975
         ],
         "y": [
          0.7933533402912352,
          1.9153243938850972,
          1.9153243938850975,
          0.7933533402912354,
          -0.7933533402912349,
          -1.9153243938850972,
          -1.9153243938850975,
          -0.7933533402912354,
          0.7933533402912352
         ],
         "z": [
          0,
          0,
          0,
          0,
          0,
          0,
          0,
          0,
          0
         ]
        }
       ],
       "layout": {
        "margin": {
         "b": 0,
         "l": 0,
         "r": 0,
         "t": 40
        },
        "scene": {
         "xaxis": {
          "title": {
           "text": "X"
          }
         },
         "yaxis": {
          "title": {
           "text": "Y"
          }
         },
         "zaxis": {
          "title": {
           "text": "Z"
          }
         }
        },
        "template": {
         "data": {
          "bar": [
           {
            "error_x": {
             "color": "#2a3f5f"
            },
            "error_y": {
             "color": "#2a3f5f"
            },
            "marker": {
             "line": {
              "color": "#E5ECF6",
              "width": 0.5
             },
             "pattern": {
              "fillmode": "overlay",
              "size": 10,
              "solidity": 0.2
             }
            },
            "type": "bar"
           }
          ],
          "barpolar": [
           {
            "marker": {
             "line": {
              "color": "#E5ECF6",
              "width": 0.5
             },
             "pattern": {
              "fillmode": "overlay",
              "size": 10,
              "solidity": 0.2
             }
            },
            "type": "barpolar"
           }
          ],
          "carpet": [
           {
            "aaxis": {
             "endlinecolor": "#2a3f5f",
             "gridcolor": "white",
             "linecolor": "white",
             "minorgridcolor": "white",
             "startlinecolor": "#2a3f5f"
            },
            "baxis": {
             "endlinecolor": "#2a3f5f",
             "gridcolor": "white",
             "linecolor": "white",
             "minorgridcolor": "white",
             "startlinecolor": "#2a3f5f"
            },
            "type": "carpet"
           }
          ],
          "choropleth": [
           {
            "colorbar": {
             "outlinewidth": 0,
             "ticks": ""
            },
            "type": "choropleth"
           }
          ],
          "contour": [
           {
            "colorbar": {
             "outlinewidth": 0,
             "ticks": ""
            },
            "colorscale": [
             [
              0,
              "#0d0887"
             ],
             [
              0.1111111111111111,
              "#46039f"
             ],
             [
              0.2222222222222222,
              "#7201a8"
             ],
             [
              0.3333333333333333,
              "#9c179e"
             ],
             [
              0.4444444444444444,
              "#bd3786"
             ],
             [
              0.5555555555555556,
              "#d8576b"
             ],
             [
              0.6666666666666666,
              "#ed7953"
             ],
             [
              0.7777777777777778,
              "#fb9f3a"
             ],
             [
              0.8888888888888888,
              "#fdca26"
             ],
             [
              1,
              "#f0f921"
             ]
            ],
            "type": "contour"
           }
          ],
          "contourcarpet": [
           {
            "colorbar": {
             "outlinewidth": 0,
             "ticks": ""
            },
            "type": "contourcarpet"
           }
          ],
          "heatmap": [
           {
            "colorbar": {
             "outlinewidth": 0,
             "ticks": ""
            },
            "colorscale": [
             [
              0,
              "#0d0887"
             ],
             [
              0.1111111111111111,
              "#46039f"
             ],
             [
              0.2222222222222222,
              "#7201a8"
             ],
             [
              0.3333333333333333,
              "#9c179e"
             ],
             [
              0.4444444444444444,
              "#bd3786"
             ],
             [
              0.5555555555555556,
              "#d8576b"
             ],
             [
              0.6666666666666666,
              "#ed7953"
             ],
             [
              0.7777777777777778,
              "#fb9f3a"
             ],
             [
              0.8888888888888888,
              "#fdca26"
             ],
             [
              1,
              "#f0f921"
             ]
            ],
            "type": "heatmap"
           }
          ],
          "heatmapgl": [
           {
            "colorbar": {
             "outlinewidth": 0,
             "ticks": ""
            },
            "colorscale": [
             [
              0,
              "#0d0887"
             ],
             [
              0.1111111111111111,
              "#46039f"
             ],
             [
              0.2222222222222222,
              "#7201a8"
             ],
             [
              0.3333333333333333,
              "#9c179e"
             ],
             [
              0.4444444444444444,
              "#bd3786"
             ],
             [
              0.5555555555555556,
              "#d8576b"
             ],
             [
              0.6666666666666666,
              "#ed7953"
             ],
             [
              0.7777777777777778,
              "#fb9f3a"
             ],
             [
              0.8888888888888888,
              "#fdca26"
             ],
             [
              1,
              "#f0f921"
             ]
            ],
            "type": "heatmapgl"
           }
          ],
          "histogram": [
           {
            "marker": {
             "pattern": {
              "fillmode": "overlay",
              "size": 10,
              "solidity": 0.2
             }
            },
            "type": "histogram"
           }
          ],
          "histogram2d": [
           {
            "colorbar": {
             "outlinewidth": 0,
             "ticks": ""
            },
            "colorscale": [
             [
              0,
              "#0d0887"
             ],
             [
              0.1111111111111111,
              "#46039f"
             ],
             [
              0.2222222222222222,
              "#7201a8"
             ],
             [
              0.3333333333333333,
              "#9c179e"
             ],
             [
              0.4444444444444444,
              "#bd3786"
             ],
             [
              0.5555555555555556,
              "#d8576b"
             ],
             [
              0.6666666666666666,
              "#ed7953"
             ],
             [
              0.7777777777777778,
              "#fb9f3a"
             ],
             [
              0.8888888888888888,
              "#fdca26"
             ],
             [
              1,
              "#f0f921"
             ]
            ],
            "type": "histogram2d"
           }
          ],
          "histogram2dcontour": [
           {
            "colorbar": {
             "outlinewidth": 0,
             "ticks": ""
            },
            "colorscale": [
             [
              0,
              "#0d0887"
             ],
             [
              0.1111111111111111,
              "#46039f"
             ],
             [
              0.2222222222222222,
              "#7201a8"
             ],
             [
              0.3333333333333333,
              "#9c179e"
             ],
             [
              0.4444444444444444,
              "#bd3786"
             ],
             [
              0.5555555555555556,
              "#d8576b"
             ],
             [
              0.6666666666666666,
              "#ed7953"
             ],
             [
              0.7777777777777778,
              "#fb9f3a"
             ],
             [
              0.8888888888888888,
              "#fdca26"
             ],
             [
              1,
              "#f0f921"
             ]
            ],
            "type": "histogram2dcontour"
           }
          ],
          "mesh3d": [
           {
            "colorbar": {
             "outlinewidth": 0,
             "ticks": ""
            },
            "type": "mesh3d"
           }
          ],
          "parcoords": [
           {
            "line": {
             "colorbar": {
              "outlinewidth": 0,
              "ticks": ""
             }
            },
            "type": "parcoords"
           }
          ],
          "pie": [
           {
            "automargin": true,
            "type": "pie"
           }
          ],
          "scatter": [
           {
            "fillpattern": {
             "fillmode": "overlay",
             "size": 10,
             "solidity": 0.2
            },
            "type": "scatter"
           }
          ],
          "scatter3d": [
           {
            "line": {
             "colorbar": {
              "outlinewidth": 0,
              "ticks": ""
             }
            },
            "marker": {
             "colorbar": {
              "outlinewidth": 0,
              "ticks": ""
             }
            },
            "type": "scatter3d"
           }
          ],
          "scattercarpet": [
           {
            "marker": {
             "colorbar": {
              "outlinewidth": 0,
              "ticks": ""
             }
            },
            "type": "scattercarpet"
           }
          ],
          "scattergeo": [
           {
            "marker": {
             "colorbar": {
              "outlinewidth": 0,
              "ticks": ""
             }
            },
            "type": "scattergeo"
           }
          ],
          "scattergl": [
           {
            "marker": {
             "colorbar": {
              "outlinewidth": 0,
              "ticks": ""
             }
            },
            "type": "scattergl"
           }
          ],
          "scattermapbox": [
           {
            "marker": {
             "colorbar": {
              "outlinewidth": 0,
              "ticks": ""
             }
            },
            "type": "scattermapbox"
           }
          ],
          "scatterpolar": [
           {
            "marker": {
             "colorbar": {
              "outlinewidth": 0,
              "ticks": ""
             }
            },
            "type": "scatterpolar"
           }
          ],
          "scatterpolargl": [
           {
            "marker": {
             "colorbar": {
              "outlinewidth": 0,
              "ticks": ""
             }
            },
            "type": "scatterpolargl"
           }
          ],
          "scatterternary": [
           {
            "marker": {
             "colorbar": {
              "outlinewidth": 0,
              "ticks": ""
             }
            },
            "type": "scatterternary"
           }
          ],
          "surface": [
           {
            "colorbar": {
             "outlinewidth": 0,
             "ticks": ""
            },
            "colorscale": [
             [
              0,
              "#0d0887"
             ],
             [
              0.1111111111111111,
              "#46039f"
             ],
             [
              0.2222222222222222,
              "#7201a8"
             ],
             [
              0.3333333333333333,
              "#9c179e"
             ],
             [
              0.4444444444444444,
              "#bd3786"
             ],
             [
              0.5555555555555556,
              "#d8576b"
             ],
             [
              0.6666666666666666,
              "#ed7953"
             ],
             [
              0.7777777777777778,
              "#fb9f3a"
             ],
             [
              0.8888888888888888,
              "#fdca26"
             ],
             [
              1,
              "#f0f921"
             ]
            ],
            "type": "surface"
           }
          ],
          "table": [
           {
            "cells": {
             "fill": {
              "color": "#EBF0F8"
             },
             "line": {
              "color": "white"
             }
            },
            "header": {
             "fill": {
              "color": "#C8D4E3"
             },
             "line": {
              "color": "white"
             }
            },
            "type": "table"
           }
          ]
         },
         "layout": {
          "annotationdefaults": {
           "arrowcolor": "#2a3f5f",
           "arrowhead": 0,
           "arrowwidth": 1
          },
          "autotypenumbers": "strict",
          "coloraxis": {
           "colorbar": {
            "outlinewidth": 0,
            "ticks": ""
           }
          },
          "colorscale": {
           "diverging": [
            [
             0,
             "#8e0152"
            ],
            [
             0.1,
             "#c51b7d"
            ],
            [
             0.2,
             "#de77ae"
            ],
            [
             0.3,
             "#f1b6da"
            ],
            [
             0.4,
             "#fde0ef"
            ],
            [
             0.5,
             "#f7f7f7"
            ],
            [
             0.6,
             "#e6f5d0"
            ],
            [
             0.7,
             "#b8e186"
            ],
            [
             0.8,
             "#7fbc41"
            ],
            [
             0.9,
             "#4d9221"
            ],
            [
             1,
             "#276419"
            ]
           ],
           "sequential": [
            [
             0,
             "#0d0887"
            ],
            [
             0.1111111111111111,
             "#46039f"
            ],
            [
             0.2222222222222222,
             "#7201a8"
            ],
            [
             0.3333333333333333,
             "#9c179e"
            ],
            [
             0.4444444444444444,
             "#bd3786"
            ],
            [
             0.5555555555555556,
             "#d8576b"
            ],
            [
             0.6666666666666666,
             "#ed7953"
            ],
            [
             0.7777777777777778,
             "#fb9f3a"
            ],
            [
             0.8888888888888888,
             "#fdca26"
            ],
            [
             1,
             "#f0f921"
            ]
           ],
           "sequentialminus": [
            [
             0,
             "#0d0887"
            ],
            [
             0.1111111111111111,
             "#46039f"
            ],
            [
             0.2222222222222222,
             "#7201a8"
            ],
            [
             0.3333333333333333,
             "#9c179e"
            ],
            [
             0.4444444444444444,
             "#bd3786"
            ],
            [
             0.5555555555555556,
             "#d8576b"
            ],
            [
             0.6666666666666666,
             "#ed7953"
            ],
            [
             0.7777777777777778,
             "#fb9f3a"
            ],
            [
             0.8888888888888888,
             "#fdca26"
            ],
            [
             1,
             "#f0f921"
            ]
           ]
          },
          "colorway": [
           "#636efa",
           "#EF553B",
           "#00cc96",
           "#ab63fa",
           "#FFA15A",
           "#19d3f3",
           "#FF6692",
           "#B6E880",
           "#FF97FF",
           "#FECB52"
          ],
          "font": {
           "color": "#2a3f5f"
          },
          "geo": {
           "bgcolor": "white",
           "lakecolor": "white",
           "landcolor": "#E5ECF6",
           "showlakes": true,
           "showland": true,
           "subunitcolor": "white"
          },
          "hoverlabel": {
           "align": "left"
          },
          "hovermode": "closest",
          "mapbox": {
           "style": "light"
          },
          "paper_bgcolor": "white",
          "plot_bgcolor": "#E5ECF6",
          "polar": {
           "angularaxis": {
            "gridcolor": "white",
            "linecolor": "white",
            "ticks": ""
           },
           "bgcolor": "#E5ECF6",
           "radialaxis": {
            "gridcolor": "white",
            "linecolor": "white",
            "ticks": ""
           }
          },
          "scene": {
           "xaxis": {
            "backgroundcolor": "#E5ECF6",
            "gridcolor": "white",
            "gridwidth": 2,
            "linecolor": "white",
            "showbackground": true,
            "ticks": "",
            "zerolinecolor": "white"
           },
           "yaxis": {
            "backgroundcolor": "#E5ECF6",
            "gridcolor": "white",
            "gridwidth": 2,
            "linecolor": "white",
            "showbackground": true,
            "ticks": "",
            "zerolinecolor": "white"
           },
           "zaxis": {
            "backgroundcolor": "#E5ECF6",
            "gridcolor": "white",
            "gridwidth": 2,
            "linecolor": "white",
            "showbackground": true,
            "ticks": "",
            "zerolinecolor": "white"
           }
          },
          "shapedefaults": {
           "line": {
            "color": "#2a3f5f"
           }
          },
          "ternary": {
           "aaxis": {
            "gridcolor": "white",
            "linecolor": "white",
            "ticks": ""
           },
           "baxis": {
            "gridcolor": "white",
            "linecolor": "white",
            "ticks": ""
           },
           "bgcolor": "#E5ECF6",
           "caxis": {
            "gridcolor": "white",
            "linecolor": "white",
            "ticks": ""
           }
          },
          "title": {
           "x": 0.05
          },
          "xaxis": {
           "automargin": true,
           "gridcolor": "white",
           "linecolor": "white",
           "ticks": "",
           "title": {
            "standoff": 15
           },
           "zerolinecolor": "white",
           "zerolinewidth": 2
          },
          "yaxis": {
           "automargin": true,
           "gridcolor": "white",
           "linecolor": "white",
           "ticks": "",
           "title": {
            "standoff": 15
           },
           "zerolinecolor": "white",
           "zerolinewidth": 2
          }
         }
        },
        "title": {
         "text": "Star Polygon Structure"
        }
       }
      }
     },
     "metadata": {},
     "output_type": "display_data"
    }
   ],
   "source": [
    "half_N = 8\n",
    "star2_points = StarGenerator2(half_N, True)"
   ]
  },
  {
   "cell_type": "code",
   "execution_count": 8,
   "id": "f8763fc0",
   "metadata": {},
   "outputs": [
    {
     "data": {
      "text/plain": [
       "1.0"
      ]
     },
     "execution_count": 8,
     "metadata": {},
     "output_type": "execute_result"
    }
   ],
   "source": [
    "test_indx = 4\n",
    "np.linalg.norm(star2_points[test_indx] - star2_points[test_indx + half_N])"
   ]
  },
  {
   "cell_type": "code",
   "execution_count": 9,
   "id": "b28a3e5b",
   "metadata": {},
   "outputs": [],
   "source": [
    "subradiant_star_list = []\n",
    "\n",
    "dipole_vector_z_hat = np.array([0, 0, 1]) #in z direction \n",
    "dipole_vector_x_hat = np.array([1, 0, 0]) #in x direction \n",
    "\n",
    "d_star = 0.3\n",
    "\n",
    "\n",
    "N_half_star = np.arange(3, 51, 1)  #start from 3 since polygon must have 3 points\n",
    "\n",
    "for n in N_half_star:\n",
    "    star = StarGenerator(n)\n",
    "    star_eigval, star_eigvec = Qchains.FindEigenstates(star, dipole_vector_z_hat, d_star)\n",
    "    star_most_subradiant_decay_rate = - np.max(2 * star_eigval.real)\n",
    "    subradiant_star_list.append(star_most_subradiant_decay_rate)"
   ]
  },
  {
   "cell_type": "code",
   "execution_count": 10,
   "id": "1ac4a931",
   "metadata": {},
   "outputs": [
    {
     "data": {
      "image/png": "[encoded data removed]",
      "text/plain": [
       "<Figure size 640x480 with 1 Axes>"
      ]
     },
     "metadata": {},
     "output_type": "display_data"
    }
   ],
   "source": [
    "plt.plot(N_half_star * 2, subradiant_star_list, '*', label = 'Star' ) #times 2 to get N. \n",
    "#plt.plot(N_ring, subradiant_inverted_hedgehog_list, '.', label = 'Inverted hedgehog')\n",
    "plt.yscale('log')\n",
    "plt.title('Scaling with N of most sub-radiant state', fontsize = 18)\n",
    "plt.ylabel(r'$\\Gamma_{\\xi = 1} / \\Gamma_0$', fontsize = 16)\n",
    "plt.xlabel('Number of atoms (N)', fontsize = 16)\n",
    "plt.legend();"
   ]
  },
  {
   "cell_type": "code",
   "execution_count": 11,
   "id": "b4669687",
   "metadata": {},
   "outputs": [
    {
     "data": {
      "text/plain": [
       "array([ 3,  4,  5,  6,  7,  8,  9, 10, 11, 12, 13, 14, 15, 16, 17, 18, 19,\n",
       "       20, 21, 22, 23, 24, 25, 26, 27, 28, 29, 30, 31, 32, 33, 34, 35, 36,\n",
       "       37, 38, 39, 40, 41, 42, 43, 44, 45, 46, 47, 48, 49, 50])"
      ]
     },
     "execution_count": 11,
     "metadata": {},
     "output_type": "execute_result"
    }
   ],
   "source": [
    "N_half_star"
   ]
  },
  {
   "cell_type": "code",
   "execution_count": 12,
   "id": "5888f7c1",
   "metadata": {},
   "outputs": [
    {
     "data": {
      "text/plain": [
       "array([  6,   8,  10,  12,  14,  16,  18,  20,  22,  24,  26,  28,  30,\n",
       "        32,  34,  36,  38,  40,  42,  44,  46,  48,  50,  52,  54,  56,\n",
       "        58,  60,  62,  64,  66,  68,  70,  72,  74,  76,  78,  80,  82,\n",
       "        84,  86,  88,  90,  92,  94,  96,  98, 100])"
      ]
     },
     "execution_count": 12,
     "metadata": {},
     "output_type": "execute_result"
    }
   ],
   "source": [
    "N_half_star * 2"
   ]
  },
  {
   "cell_type": "code",
   "execution_count": 13,
   "id": "f746ffa8",
   "metadata": {},
   "outputs": [
    {
     "data": {
      "image/png": "[encoded data removed]",
      "text/plain": [
       "<Figure size 1200x500 with 3 Axes>"
      ]
     },
     "metadata": {},
     "output_type": "display_data"
    }
   ],
   "source": [
    "star_20 = StarGenerator(20) \n",
    "star_eigval_20, star_eigvec_20 = Qchains.FindEigenstates(star_20, dipole_vector_z_hat, d_star)\n",
    "Qchains.SiteProbAndAmplitudeDistribution(star_eigval_20, star_eigvec_20, state_num=0, titleprecision=7, sharey=False, is_star=True)"
   ]
  },
  {
   "cell_type": "code",
   "execution_count": 14,
   "id": "753ad25f",
   "metadata": {},
   "outputs": [
    {
     "data": {
      "image/png": "[encoded data removed]",
      "text/plain": [
       "<Figure size 1200x500 with 3 Axes>"
      ]
     },
     "metadata": {},
     "output_type": "display_data"
    }
   ],
   "source": [
    "star_20 = StarGenerator(21) \n",
    "star_eigval_20, star_eigvec_20 = Qchains.FindEigenstates(star_20, dipole_vector_z_hat, d_star)\n",
    "Qchains.SiteProbAndAmplitudeDistribution(star_eigval_20, star_eigvec_20, state_num=0, titleprecision=7, sharey=False, is_star=True)"
   ]
  },
  {
   "cell_type": "markdown",
   "id": "31c3430d",
   "metadata": {},
   "source": [
    "For N = 40 (and greater values in incremeants of 2) we see commplete decoupling. The fact that it has to be incremeants of 2 is so the phase completely changes from start to end of the inner ring. I.e starts red ends blue or vice verca. This complete decoupling means it acts ass a simple z-polarized ring, but the atom number is twice at large since the outer ring is just there. Thus it is simply act as the the z-polarized ring but obviously scaling slower. \n",
    "For odd numbers of the inner ring it still decouples very strongly. "
   ]
  },
  {
   "cell_type": "code",
   "execution_count": null,
   "id": "606c428e",
   "metadata": {},
   "outputs": [],
   "source": []
  }
 ],
 "metadata": {
  "kernelspec": {
   "display_name": "base",
   "language": "python",
   "name": "python3"
  },
  "language_info": {
   "codemirror_mode": {
    "name": "ipython",
    "version": 3
   },
   "file_extension": ".py",
   "mimetype": "text/x-python",
   "name": "python",
   "nbconvert_exporter": "python",
   "pygments_lexer": "ipython3",
   "version": "3.11.11"
  }
 },
 "nbformat": 4,
 "nbformat_minor": 5
}
