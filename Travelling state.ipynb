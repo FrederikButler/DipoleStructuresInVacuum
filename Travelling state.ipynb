{
 "cells": [
  {
   "cell_type": "code",
   "execution_count": 1,
   "id": "2c28a894",
   "metadata": {},
   "outputs": [],
   "source": [
    "import numpy as np\n",
    "import matplotlib.pyplot as plt\n",
    "import Qchains\n",
    "import plotly.graph_objects as go\n",
    "from scipy.optimize import curve_fit\n",
    "import cmath"
   ]
  },
  {
   "cell_type": "markdown",
   "id": "efe7f025",
   "metadata": {},
   "source": [
    "## Travelling state in \"fiber\""
   ]
  },
  {
   "cell_type": "code",
   "execution_count": null,
   "id": "84a8529e",
   "metadata": {},
   "outputs": [],
   "source": []
  }
 ],
 "metadata": {
  "kernelspec": {
   "display_name": "base",
   "language": "python",
   "name": "python3"
  },
  "language_info": {
   "codemirror_mode": {
    "name": "ipython",
    "version": 3
   },
   "file_extension": ".py",
   "mimetype": "text/x-python",
   "name": "python",
   "nbconvert_exporter": "python",
   "pygments_lexer": "ipython3",
   "version": "3.11.11"
  }
 },
 "nbformat": 4,
 "nbformat_minor": 5
}
