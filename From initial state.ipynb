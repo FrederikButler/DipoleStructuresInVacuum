{
 "cells": [
  {
   "cell_type": "code",
   "execution_count": 299,
   "metadata": {},
   "outputs": [],
   "source": [
    "import numpy as np\n",
    "import matplotlib.pyplot as plt\n",
    "from mpl_toolkits.mplot3d import Axes3D\n",
    "import plotly.graph_objects as go\n",
    "import cmath #for complex numbers\n",
    "from scipy.linalg import eig\n",
    "\n",
    "from scipy.spatial import distance_matrix"
   ]
  },
  {
   "cell_type": "markdown",
   "metadata": {},
   "source": [
    "# Staring in given state"
   ]
  },
  {
   "cell_type": "code",
   "execution_count": 300,
   "metadata": {},
   "outputs": [],
   "source": [
    "dipole_vector_hat = np.array([0, 1, 0]) #i y retning "
   ]
  },
  {
   "cell_type": "code",
   "execution_count": 301,
   "metadata": {},
   "outputs": [
    {
     "name": "stdout",
     "output_type": "stream",
     "text": [
      "[[-0.5       +0.j         -0.46134842-2.59709387j -0.35493593-0.384059j\n",
      "  -0.20668068-0.28910337j -0.05157598-0.27299359j]\n",
      " [-0.46134842-2.59709387j -0.5       +0.j         -0.46134842-2.59709387j\n",
      "  -0.35493593-0.384059j   -0.20668068-0.28910337j]\n",
      " [-0.35493593-0.384059j   -0.46134842-2.59709387j -0.5       +0.j\n",
      "  -0.46134842-2.59709387j -0.35493593-0.384059j  ]\n",
      " [-0.20668068-0.28910337j -0.35493593-0.384059j   -0.46134842-2.59709387j\n",
      "  -0.5       +0.j         -0.46134842-2.59709387j]\n",
      " [-0.05157598-0.27299359j -0.20668068-0.28910337j -0.35493593-0.384059j\n",
      "  -0.46134842-2.59709387j -0.5       +0.j        ]]\n",
      "[[-0.5       -0.j         -0.46134842+2.59709387j -0.35493593+0.384059j\n",
      "  -0.20668068+0.28910337j -0.05157598+0.27299359j]\n",
      " [-0.46134842+2.59709387j -0.5       -0.j         -0.46134842+2.59709387j\n",
      "  -0.35493593+0.384059j   -0.20668068+0.28910337j]\n",
      " [-0.35493593+0.384059j   -0.46134842+2.59709387j -0.5       -0.j\n",
      "  -0.46134842+2.59709387j -0.35493593+0.384059j  ]\n",
      " [-0.20668068+0.28910337j -0.35493593+0.384059j   -0.46134842+2.59709387j\n",
      "  -0.5       -0.j         -0.46134842+2.59709387j]\n",
      " [-0.05157598+0.27299359j -0.20668068+0.28910337j -0.35493593+0.384059j\n",
      "  -0.46134842+2.59709387j -0.5       -0.j        ]]\n"
     ]
    }
   ],
   "source": [
    "points = np.array([\n",
    "    # [-8, 0, 0],\n",
    "    # [-7, 0, 0],\n",
    "    # [-6, 0, 0],\n",
    "   #   [-5, 0, 0],\n",
    "   #   [-4, 0, 0],\n",
    "   #  [-3, 0, 0],\n",
    "   [-2, 0, 0],\n",
    "    [-1, 0, 0],\n",
    "    [0, 0, 0],\n",
    "    [1, 0, 0],\n",
    "   [2, 0, 0],\n",
    "   # [3, 0, 0],\n",
    "   #  [4, 0, 0],\n",
    "   #   [5, 0, 0],\n",
    "    # [6, 0, 0],\n",
    "    # [7, 0, 0],\n",
    "    # [8, 0, 0]\n",
    "])\n",
    "\n",
    "#distance_matrix = distance_matrix(points, points) eventuelt for hurtigere \n",
    "r_ij_vector = points[:, np.newaxis] - points\n",
    "r_ij = np.linalg.norm(r_ij_vector, axis=2, keepdims=True)\n",
    "r_ij_hat = np.divide(r_ij_vector, r_ij, out=np.zeros_like(r_ij_vector, dtype=float), where=(r_ij != 0)) \n",
    "\n",
    "k_e__r_ij_vector = 0.2 * np.pi * r_ij_vector \n",
    "k_e__r_ij = np.linalg.norm(k_e__r_ij_vector, axis=2, keepdims=True)\n",
    "\n",
    "F = np.zeros(shape = (len(k_e__r_ij), len(k_e__r_ij)), dtype=complex)\n",
    "\n",
    "for l in range(len(k_e__r_ij)): \n",
    "   dot_product = np.dot(r_ij_hat[l, :, :] , dipole_vector_hat)\n",
    "\n",
    "   denom1 = (k_e__r_ij[l].flatten())\n",
    "   denom2 = (k_e__r_ij[l].flatten())**2\n",
    "   denom3 = (k_e__r_ij[l].flatten())**3\n",
    "   safe_denom1 = np.where(denom1 == 0, np.nan, denom1)\n",
    "   safe_denom2 = np.where(denom2 == 0, np.nan, denom2)\n",
    "   safe_denom3 = np.where(denom3 == 0, np.nan, denom3)\n",
    "\n",
    "   f_ji =  3/2 * (1 - (dot_product)**2) * np.sin(k_e__r_ij[l].flatten())/safe_denom1 \\\n",
    "      + 3/2 * (1 - 3 * (dot_product)**2) * (np.cos(k_e__r_ij[l].flatten())/safe_denom2 - np.sin(k_e__r_ij[l].flatten())/ safe_denom3) \n",
    "   g_ji = -3/2 * (1 - (dot_product)**2) * np.cos(k_e__r_ij[l].flatten())/safe_denom1 \\\n",
    "      + 3/2 * (1 - 3 * (dot_product)**2) * (np.sin(k_e__r_ij[l].flatten())/safe_denom2 + np.cos(k_e__r_ij[l].flatten())/ safe_denom3) \n",
    "   \n",
    "   f_ji = np.nan_to_num(f_ji)\n",
    "   g_ji = np.nan_to_num(g_ji)\n",
    "\n",
    "   #Fill F\n",
    "   F[:, l] = f_ji + 1j * g_ji \n",
    "\n",
    "I = np.eye(len(k_e__r_ij), dtype = complex)\n",
    "\n",
    "A = - 1/2 * (I + F)\n",
    "print(A)\n",
    "print(A.conj().T)\n",
    "\n",
    "A_eigenvalues, A_left_eigvecs, A_right_eigvecs = eig(A, left=True, right=True)\n",
    "\n",
    "# for eigenvalue in A_eigenvalues:\n",
    "#    print(eigenvalue)"
   ]
  },
  {
   "cell_type": "code",
   "execution_count": 302,
   "metadata": {},
   "outputs": [
    {
     "data": {
      "text/plain": [
       "array([[ 1.0e+00-0.j    , -0.0e+00+0.j    ,  1.4e-03-0.0419j,\n",
       "        -3.0e-04+0.0092j,  0.0e+00-0.j    ],\n",
       "       [ 0.0e+00-0.j    , -1.0e+00-0.j    ,  0.0e+00+0.j    ,\n",
       "        -0.0e+00-0.j    ,  0.0e+00+0.0622j],\n",
       "       [ 1.4e-03+0.0419j, -0.0e+00+0.j    ,  1.0e+00+0.j    ,\n",
       "        -3.0e-04-0.0048j, -0.0e+00-0.j    ],\n",
       "       [-3.0e-04-0.0092j,  0.0e+00+0.j    , -3.0e-04+0.0048j,\n",
       "         1.0e+00-0.j    , -0.0e+00-0.j    ],\n",
       "       [ 0.0e+00+0.j    , -0.0e+00+0.0622j,  0.0e+00+0.j    ,\n",
       "        -0.0e+00-0.j    ,  1.0e+00-0.j    ]])"
      ]
     },
     "execution_count": 302,
     "metadata": {},
     "output_type": "execute_result"
    }
   ],
   "source": [
    "norm_matrix = np.round(A_left_eigvecs.T @ A_right_eigvecs, 4)\n",
    "norms = np.diagonal(norm_matrix.real)\n",
    "norms = np.array(norms, dtype=np.complex128)\n",
    "test_identity = np.diag(norms @ norm_matrix)\n",
    "norm_matrix #see some of the diagonal elements are -1"
   ]
  },
  {
   "cell_type": "markdown",
   "metadata": {},
   "source": [
    "## OBS skal det her skrives om, så det som udgangspunkt tager kvadratroden for at normalisere korrekt. Lige nu virker det kun, hvis normerne er hhv. 1 og -1"
   ]
  },
  {
   "cell_type": "code",
   "execution_count": 303,
   "metadata": {},
   "outputs": [
    {
     "name": "stdout",
     "output_type": "stream",
     "text": [
      "Before: [ 1.+0.j -1.+0.j  1.+0.j  1.+0.j  1.+0.j]\n",
      "After: [1.+0.j 0.+1.j 1.+0.j 1.+0.j 1.+0.j]\n"
     ]
    }
   ],
   "source": [
    "print('Before:', norms)\n",
    "for i, norm in enumerate(norms):\n",
    "    if norm == -1: \n",
    "        norms[i] = 1j\n",
    "\n",
    "print('After:', norms)"
   ]
  },
  {
   "cell_type": "code",
   "execution_count": 304,
   "metadata": {},
   "outputs": [],
   "source": [
    "normalized_A_left_eigvecs = A_left_eigvecs / norms\n",
    "normalized_A_right_eigvecs = A_right_eigvecs / norms"
   ]
  },
  {
   "cell_type": "code",
   "execution_count": 305,
   "metadata": {},
   "outputs": [
    {
     "data": {
      "text/plain": [
       "array([[ 1.000e+00-0.j     ,  0.000e+00+0.j     ,  1.450e-03-0.04189j,\n",
       "        -2.600e-04+0.0092j ,  0.000e+00-0.j     ],\n",
       "       [-0.000e+00-0.j     ,  1.000e+00+0.j     ,  0.000e+00-0.j     ,\n",
       "        -0.000e+00+0.j     ,  6.225e-02-0.j     ],\n",
       "       [ 1.450e-03+0.04189j,  0.000e+00+0.j     ,  1.000e+00+0.j     ,\n",
       "        -2.800e-04-0.00484j, -0.000e+00-0.j     ],\n",
       "       [-2.600e-04-0.0092j ,  0.000e+00-0.j     , -2.800e-04+0.00484j,\n",
       "         1.000e+00-0.j     , -0.000e+00-0.j     ],\n",
       "       [ 0.000e+00+0.j     ,  6.225e-02+0.j     ,  0.000e+00+0.j     ,\n",
       "        -0.000e+00-0.j     ,  1.000e+00-0.j     ]])"
      ]
     },
     "execution_count": 305,
     "metadata": {},
     "output_type": "execute_result"
    }
   ],
   "source": [
    "tester = np.round(normalized_A_left_eigvecs.T @ normalized_A_right_eigvecs, 5) \n",
    "tester"
   ]
  },
  {
   "cell_type": "code",
   "execution_count": 306,
   "metadata": {},
   "outputs": [
    {
     "name": "stdout",
     "output_type": "stream",
     "text": [
      "False\n"
     ]
    }
   ],
   "source": [
    "is_identity = np.array_equal(tester, np.eye(A.shape[0]))\n",
    "print(is_identity)"
   ]
  },
  {
   "cell_type": "markdown",
   "metadata": {},
   "source": [
    "### Changing the basis"
   ]
  },
  {
   "cell_type": "code",
   "execution_count": 307,
   "metadata": {},
   "outputs": [],
   "source": [
    "initial_state_ibase = np.array([1, 0, 0, 0, 0]) #NORMALIZE so theres only one exitation. Also make sure #components matches the basis of the system ie. number of atoms."
   ]
  },
  {
   "cell_type": "code",
   "execution_count": 308,
   "metadata": {},
   "outputs": [
    {
     "data": {
      "text/plain": [
       "array([[ 1.00000000e+00-1.75771721e-16j,  7.68085792e-17+6.75550312e-17j,\n",
       "         1.44722926e-03-4.18878224e-02j, -2.59781341e-04+9.20205252e-03j,\n",
       "         1.79587100e-16-1.24829132e-16j],\n",
       "       [-3.18170329e-16-9.56120873e-17j,  1.00000000e+00+6.64001482e-16j,\n",
       "         6.52865636e-16-3.92054499e-16j, -2.11303654e-16+1.47623462e-16j,\n",
       "         6.22461576e-02-2.84718180e-16j],\n",
       "       [ 1.44722926e-03+4.18878224e-02j,  3.01066853e-16+4.07456919e-16j,\n",
       "         1.00000000e+00+1.00844407e-16j, -2.79421829e-04-4.83526116e-03j,\n",
       "        -6.28371314e-17-2.49580499e-17j],\n",
       "       [-2.59781341e-04-9.20205252e-03j,  2.66212081e-16-1.82934493e-16j,\n",
       "        -2.79421829e-04+4.83526116e-03j,  1.00000000e+00-4.53347933e-16j,\n",
       "        -3.07892750e-16-6.17574304e-16j],\n",
       "       [ 7.37739872e-17+1.56836241e-16j,  6.22461576e-02+3.44854229e-16j,\n",
       "         8.30063564e-17+9.27039291e-17j, -2.76930371e-16-5.69760704e-16j,\n",
       "         1.00000000e+00-7.31996674e-16j]])"
      ]
     },
     "execution_count": 308,
     "metadata": {},
     "output_type": "execute_result"
    }
   ],
   "source": [
    "b = normalized_A_left_eigvecs.T @ normalized_A_right_eigvecs\n",
    "b"
   ]
  },
  {
   "cell_type": "code",
   "execution_count": 309,
   "metadata": {},
   "outputs": [],
   "source": [
    "# initial_state_eigbase = normalized_A_left_eigvecs.T @ initial_state_ibase\n",
    "# initial_state_eigbase"
   ]
  },
  {
   "cell_type": "code",
   "execution_count": 310,
   "metadata": {},
   "outputs": [
    {
     "data": {
      "text/plain": [
       "array([ 1.00000000e+00-1.75621096e-16j, -3.16435606e-16-1.23367663e-16j,\n",
       "        1.44722926e-03+4.18878224e-02j, -2.59781341e-04-9.20205252e-03j,\n",
       "        1.01529563e-16+1.55749682e-16j])"
      ]
     },
     "execution_count": 310,
     "metadata": {},
     "output_type": "execute_result"
    }
   ],
   "source": [
    "b = normalized_A_left_eigvecs.T @ normalized_A_right_eigvecs[:, 0]\n",
    "b"
   ]
  },
  {
   "cell_type": "code",
   "execution_count": null,
   "metadata": {},
   "outputs": [],
   "source": []
  },
  {
   "cell_type": "code",
   "execution_count": 311,
   "metadata": {},
   "outputs": [
    {
     "data": {
      "text/plain": [
       "array([0.33551954+0.01930208j, 0.49182097+0.00605108j,\n",
       "       0.53875707+0.j        , 0.49182097+0.00605108j,\n",
       "       0.33551954+0.01930208j])"
      ]
     },
     "execution_count": 311,
     "metadata": {},
     "output_type": "execute_result"
    }
   ],
   "source": [
    "A_left_eigvecs[:, 0]"
   ]
  },
  {
   "cell_type": "code",
   "execution_count": 312,
   "metadata": {},
   "outputs": [
    {
     "data": {
      "text/plain": [
       "array([0.33551954-0.01930208j, 0.49182097-0.00605108j,\n",
       "       0.53875707+0.j        , 0.49182097-0.00605108j,\n",
       "       0.33551954-0.01930208j])"
      ]
     },
     "execution_count": 312,
     "metadata": {},
     "output_type": "execute_result"
    }
   ],
   "source": [
    "A_right_eigvecs[:, 0]"
   ]
  },
  {
   "cell_type": "code",
   "execution_count": 313,
   "metadata": {},
   "outputs": [
    {
     "data": {
      "text/plain": [
       "(0.9999999999999998-1.7663908292398356e-16j)"
      ]
     },
     "execution_count": 313,
     "metadata": {},
     "output_type": "execute_result"
    }
   ],
   "source": [
    "np.dot(A_left_eigvecs[:, 0], A_right_eigvecs[:, 0])"
   ]
  },
  {
   "cell_type": "code",
   "execution_count": 314,
   "metadata": {},
   "outputs": [
    {
     "data": {
      "text/plain": [
       "array([[-4.661e-01-0.0194j,  3.390e-02-0.0195j, -2.655e-01+0.0234j,\n",
       "        -2.482e-01-0.025j , -8.046e-01-0.0321j],\n",
       "       [-1.314e-01-0.0347j,  2.000e-04-0.0192j, -5.737e-01-0.0091j,\n",
       "         8.081e-01+0.0054j,  1.510e-02-0.0136j],\n",
       "       [ 7.952e-01-0.0139j, -1.020e-02-0.0177j,  1.019e-01-0.0145j,\n",
       "         2.116e-01+0.0031j, -5.579e-01-0.0165j],\n",
       "       [ 1.150e-02+0.0091j,  9.965e-01+0.0411j,  3.580e-02-0.0014j,\n",
       "         2.870e-02-0.0251j,  1.510e-02-0.0136j],\n",
       "       [ 3.641e-01-0.024j ,  3.390e-02-0.0195j, -7.661e-01-0.0368j,\n",
       "        -4.892e-01-0.0026j,  1.917e-01+0.0281j]])"
      ]
     },
     "execution_count": 314,
     "metadata": {},
     "output_type": "execute_result"
    }
   ],
   "source": [
    "np.round(A_left_eigvecs.conj() @ A_right_eigvecs, 4)"
   ]
  },
  {
   "cell_type": "code",
   "execution_count": 315,
   "metadata": {},
   "outputs": [
    {
     "data": {
      "text/plain": [
       "array([[ 0.9984-0.0378j, -0.    -0.j    ,  0.    -0.j    ,\n",
       "        -0.    -0.j    ,  0.    +0.j    ],\n",
       "       [ 0.    -0.j    , -0.9962-0.0602j,  0.    +0.j    ,\n",
       "        -0.    -0.j    ,  0.    +0.j    ],\n",
       "       [-0.    +0.j    , -0.    +0.j    ,  0.9986+0.0322j,\n",
       "        -0.    +0.j    , -0.    -0.j    ],\n",
       "       [ 0.    +0.j    ,  0.    -0.j    ,  0.    -0.j    ,\n",
       "         0.9999-0.0034j, -0.    +0.j    ],\n",
       "       [ 0.    -0.j    , -0.    +0.j    ,  0.    +0.j    ,\n",
       "        -0.    -0.j    ,  0.9962+0.0602j]])"
      ]
     },
     "execution_count": 315,
     "metadata": {},
     "output_type": "execute_result"
    }
   ],
   "source": [
    "np.round(A_left_eigvecs.conj().T @ A_right_eigvecs, 4)"
   ]
  },
  {
   "cell_type": "code",
   "execution_count": 316,
   "metadata": {},
   "outputs": [],
   "source": [
    "norm_factors = np.einsum('ij,ij->j', A_left_eigvecs.conj(), A_right_eigvecs)\n",
    "A_left_eigvecs = A_left_eigvecs / np.sqrt(norm_factors)[None, :]  # Broadcast division column-wise\n",
    "A_right_eigvecs = A_right_eigvecs / np.sqrt(norm_factors)[None, :]"
   ]
  },
  {
   "cell_type": "code",
   "execution_count": 317,
   "metadata": {},
   "outputs": [
    {
     "data": {
      "text/plain": [
       "array([[ 0.9993-0.0378j,  0.    -0.j    ,  0.    -0.j    ,\n",
       "        -0.    -0.j    ,  0.    +0.j    ],\n",
       "       [-0.    -0.j    , -0.9982-0.0603j,  0.    -0.j    ,\n",
       "        -0.    +0.j    ,  0.    -0.j    ],\n",
       "       [-0.    +0.j    , -0.    -0.j    ,  0.9995+0.0323j,\n",
       "        -0.    +0.j    , -0.    -0.j    ],\n",
       "       [ 0.    +0.j    ,  0.    +0.j    , -0.    -0.j    ,\n",
       "         1.    -0.0034j, -0.    +0.j    ],\n",
       "       [ 0.    -0.j    , -0.    -0.j    ,  0.    +0.j    ,\n",
       "        -0.    -0.j    ,  0.9982+0.0603j]])"
      ]
     },
     "execution_count": 317,
     "metadata": {},
     "output_type": "execute_result"
    }
   ],
   "source": [
    "np.round(A_left_eigvecs.conj().T @ A_right_eigvecs, 4)"
   ]
  },
  {
   "cell_type": "code",
   "execution_count": null,
   "metadata": {},
   "outputs": [],
   "source": []
  },
  {
   "cell_type": "code",
   "execution_count": 318,
   "metadata": {},
   "outputs": [
    {
     "name": "stdout",
     "output_type": "stream",
     "text": [
      "[1.00046085 1.000971   1.00044552 1.00002705 1.000971  ]\n"
     ]
    }
   ],
   "source": [
    "#Check if left are normalized\n",
    "print(np.linalg.norm(A_left_eigvecs, axis=0))"
   ]
  },
  {
   "cell_type": "code",
   "execution_count": 319,
   "metadata": {},
   "outputs": [],
   "source": [
    "identity_check = A_left_eigvecs.conj().T @ A_right_eigvecs"
   ]
  },
  {
   "cell_type": "code",
   "execution_count": 320,
   "metadata": {},
   "outputs": [
    {
     "data": {
      "text/plain": [
       "array([[ 0.9993-0.0378j,  0.    -0.j    ,  0.    -0.j    ,\n",
       "        -0.    -0.j    ,  0.    +0.j    ],\n",
       "       [-0.    -0.j    , -0.9982-0.0603j,  0.    -0.j    ,\n",
       "        -0.    +0.j    ,  0.    -0.j    ],\n",
       "       [-0.    +0.j    , -0.    -0.j    ,  0.9995+0.0323j,\n",
       "        -0.    +0.j    , -0.    -0.j    ],\n",
       "       [ 0.    +0.j    ,  0.    +0.j    , -0.    -0.j    ,\n",
       "         1.    -0.0034j, -0.    +0.j    ],\n",
       "       [ 0.    -0.j    , -0.    -0.j    ,  0.    +0.j    ,\n",
       "        -0.    -0.j    ,  0.9982+0.0603j]])"
      ]
     },
     "execution_count": 320,
     "metadata": {},
     "output_type": "execute_result"
    }
   ],
   "source": [
    "np.round(A_left_eigvecs.conj().T @ A_right_eigvecs, 4)"
   ]
  },
  {
   "cell_type": "code",
   "execution_count": 321,
   "metadata": {},
   "outputs": [
    {
     "data": {
      "text/plain": [
       "array([[ 1.0002e+00+0.0379j, -0.0000e+00-0.j    ,  1.6000e-03-0.0419j,\n",
       "        -4.0000e-04+0.0092j,  0.0000e+00-0.j    ],\n",
       "       [ 0.0000e+00+0.j    ,  1.0001e+00-0.0605j, -0.0000e+00+0.j    ,\n",
       "         0.0000e+00-0.j    , -6.2300e-02+0.0038j],\n",
       "       [ 1.3000e-03+0.0419j, -0.0000e+00-0.j    ,  1.0004e+00-0.0323j,\n",
       "        -3.0000e-04-0.0048j, -0.0000e+00-0.j    ],\n",
       "       [-1.0000e-04-0.0092j, -0.0000e+00+0.j    , -2.0000e-04+0.0048j,\n",
       "         1.0000e+00+0.0035j, -0.0000e+00-0.j    ],\n",
       "       [ 0.0000e+00+0.j    , -6.2300e-02+0.0038j,  0.0000e+00+0.j    ,\n",
       "        -0.0000e+00-0.j    ,  1.0001e+00-0.0605j]])"
      ]
     },
     "execution_count": 321,
     "metadata": {},
     "output_type": "execute_result"
    }
   ],
   "source": [
    "np.round(A_left_eigvecs.T @ A_right_eigvecs, 4)"
   ]
  },
  {
   "cell_type": "code",
   "execution_count": 322,
   "metadata": {},
   "outputs": [
    {
     "data": {
      "text/plain": [
       "array([[ 1.0009e+00-0.j    ,  0.0000e+00+0.j    , -0.0000e+00-0.042j ,\n",
       "        -1.0000e-04+0.0092j,  0.0000e+00+0.j    ],\n",
       "       [ 0.0000e+00-0.j    ,  1.0019e+00-0.j    , -0.0000e+00+0.j    ,\n",
       "         0.0000e+00-0.j    , -6.2400e-02+0.j    ],\n",
       "       [-0.0000e+00+0.042j , -0.0000e+00-0.j    ,  1.0009e+00-0.j    ,\n",
       "        -2.0000e-04-0.0048j,  0.0000e+00-0.j    ],\n",
       "       [-1.0000e-04-0.0092j,  0.0000e+00+0.j    , -2.0000e-04+0.0048j,\n",
       "         1.0001e+00+0.j    , -0.0000e+00+0.j    ],\n",
       "       [ 0.0000e+00-0.j    , -6.2400e-02-0.j    ,  0.0000e+00+0.j    ,\n",
       "        -0.0000e+00-0.j    ,  1.0019e+00+0.j    ]])"
      ]
     },
     "execution_count": 322,
     "metadata": {},
     "output_type": "execute_result"
    }
   ],
   "source": [
    "np.round(A_right_eigvecs.conj().T @ A_right_eigvecs, 4)"
   ]
  },
  {
   "cell_type": "markdown",
   "metadata": {},
   "source": [
    "Check for $< \\lambda_i^L | \\lambda_j^R > = \\delta_{ij}$. vdot used so it actually complex conjugates. "
   ]
  },
  {
   "cell_type": "code",
   "execution_count": 323,
   "metadata": {},
   "outputs": [
    {
     "data": {
      "text/plain": [
       "(0.9992836615128761-0.03784394051126461j)"
      ]
     },
     "execution_count": 323,
     "metadata": {},
     "output_type": "execute_result"
    }
   ],
   "source": [
    "np.vdot(A_left_eigvecs[:, 0], A_right_eigvecs[:, 0])"
   ]
  },
  {
   "cell_type": "code",
   "execution_count": 324,
   "metadata": {},
   "outputs": [
    {
     "data": {
      "text/plain": [
       "array([-0.55642004+0.02434382j,  0.04472752+0.01010266j,\n",
       "        0.61334836-0.00990098j,  0.04472752+0.01010266j,\n",
       "       -0.55642004+0.02434382j])"
      ]
     },
     "execution_count": 324,
     "metadata": {},
     "output_type": "execute_result"
    }
   ],
   "source": [
    "A_left_eigvecs[:, 2]"
   ]
  },
  {
   "cell_type": "code",
   "execution_count": 325,
   "metadata": {},
   "outputs": [
    {
     "data": {
      "text/plain": [
       "array([-0.55691587-0.00637178j,  0.04437814-0.01154105j,\n",
       "        0.61334836-0.00990098j,  0.04437814-0.01154105j,\n",
       "       -0.55691587-0.00637178j])"
      ]
     },
     "execution_count": 325,
     "metadata": {},
     "output_type": "execute_result"
    }
   ],
   "source": [
    "A_right_eigvecs[:, 2]"
   ]
  },
  {
   "cell_type": "code",
   "execution_count": 326,
   "metadata": {},
   "outputs": [
    {
     "data": {
      "text/plain": [
       "(0.9992836615128761-0.03784394051126461j)"
      ]
     },
     "execution_count": 326,
     "metadata": {},
     "output_type": "execute_result"
    }
   ],
   "source": [
    "np.vdot(A_left_eigvecs[:, 0], A_right_eigvecs[:, 0])"
   ]
  },
  {
   "cell_type": "code",
   "execution_count": null,
   "metadata": {},
   "outputs": [],
   "source": []
  },
  {
   "cell_type": "code",
   "execution_count": 327,
   "metadata": {},
   "outputs": [
    {
     "data": {
      "image/png": "[encoded data removed]",
      "text/plain": [
       "<Figure size 640x480 with 1 Axes>"
      ]
     },
     "metadata": {},
     "output_type": "display_data"
    }
   ],
   "source": [
    "t = np.linspace(0,20, 100)\n",
    "bt = np.zeros(shape = (len(k_e__r_ij), len(t)), dtype=complex)\n",
    "\n",
    "for i in range(len(A_eigenvalues)):\n",
    "    bt[i] = np.exp((A_eigenvalues[i] + np.conjugate(A_eigenvalues[i])) * t) \n",
    "\n",
    "    plt.plot(t, bt[i].real, label=f\"b_{i+1}\") \n",
    "\n",
    "plt.legend()\n",
    "plt.xlabel(r\"$t \\; [\\Gamma]$\")\n",
    "plt.ylabel(r\"$|b(t)|^2$\");"
   ]
  }
 ],
 "metadata": {
  "kernelspec": {
   "display_name": "base",
   "language": "python",
   "name": "python3"
  },
  "language_info": {
   "codemirror_mode": {
    "name": "ipython",
    "version": 3
   },
   "file_extension": ".py",
   "mimetype": "text/x-python",
   "name": "python",
   "nbconvert_exporter": "python",
   "pygments_lexer": "ipython3",
   "version": "3.11.11"
  }
 },
 "nbformat": 4,
 "nbformat_minor": 2
}
