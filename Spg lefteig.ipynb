{
 "cells": [
  {
   "cell_type": "code",
   "execution_count": 163,
   "metadata": {},
   "outputs": [],
   "source": [
    "import numpy as np\n",
    "import matplotlib.pyplot as plt\n",
    "from mpl_toolkits.mplot3d import Axes3D\n",
    "import plotly.graph_objects as go\n",
    "import cmath #for complex numbers\n",
    "from scipy.linalg import eig\n",
    "\n",
    "from scipy.spatial import distance_matrix\n",
    "np.set_printoptions(linewidth=200)"
   ]
  },
  {
   "cell_type": "code",
   "execution_count": 164,
   "metadata": {},
   "outputs": [],
   "source": [
    "dipole_vector_hat = np.array([0, 1, 0]) #i y retning "
   ]
  },
  {
   "cell_type": "code",
   "execution_count": 165,
   "metadata": {},
   "outputs": [],
   "source": [
    "points = np.array([\n",
    "   #  [-8, 0, 0],\n",
    "   #  [-7, 0, 0],\n",
    "   #  [-6, 0, 0],\n",
    "   #    [-5, 0, 0],\n",
    "   #   [-4, 0, 0],\n",
    "   #   [-3, 0, 0],\n",
    "    [-2, 0, 0],\n",
    "    [-1, 0, 0],\n",
    "    [0, 0, 0],\n",
    "    [1, 0, 0],\n",
    "   [2, 0, 0],\n",
    "   #  [3, 0, 0],\n",
    "   #  [4, 0, 0],\n",
    "   # [5, 0, 0],\n",
    "   #  [6, 0, 0],\n",
    "   #  [7, 0, 0],\n",
    "   #  [8, 0, 0]\n",
    "])\n",
    "\n",
    "#distance_matrix = distance_matrix(points, points) eventuelt for hurtigere \n",
    "r_ij_vector = points[:, np.newaxis] - points\n",
    "r_ij = np.linalg.norm(r_ij_vector, axis=2, keepdims=True)\n",
    "r_ij_hat = np.divide(r_ij_vector, r_ij, out=np.zeros_like(r_ij_vector, dtype=float), where=(r_ij != 0)) \n",
    "\n",
    "k_e__r_ij_vector = 0.2 * np.pi * r_ij_vector \n",
    "k_e__r_ij = np.linalg.norm(k_e__r_ij_vector, axis=2, keepdims=True)\n",
    "\n",
    "F = np.zeros(shape = (len(k_e__r_ij), len(k_e__r_ij)), dtype=complex)\n",
    "\n",
    "for l in range(len(k_e__r_ij)): \n",
    "   dot_product = np.dot(r_ij_hat[l, :, :] , dipole_vector_hat)\n",
    "\n",
    "   denom1 = (k_e__r_ij[l].flatten())\n",
    "   denom2 = (k_e__r_ij[l].flatten())**2\n",
    "   denom3 = (k_e__r_ij[l].flatten())**3\n",
    "   safe_denom1 = np.where(denom1 == 0, np.nan, denom1)\n",
    "   safe_denom2 = np.where(denom2 == 0, np.nan, denom2)\n",
    "   safe_denom3 = np.where(denom3 == 0, np.nan, denom3)\n",
    "\n",
    "   f_ji =  3/2 * (1 - (dot_product)**2) * np.sin(k_e__r_ij[l].flatten())/safe_denom1 \\\n",
    "      + 3/2 * (1 - 3 * (dot_product)**2) * (np.cos(k_e__r_ij[l].flatten())/safe_denom2 - np.sin(k_e__r_ij[l].flatten())/ safe_denom3) \n",
    "   g_ji = -3/2 * (1 - (dot_product)**2) * np.cos(k_e__r_ij[l].flatten())/safe_denom1 \\\n",
    "      + 3/2 * (1 - 3 * (dot_product)**2) * (np.sin(k_e__r_ij[l].flatten())/safe_denom2 + np.cos(k_e__r_ij[l].flatten())/ safe_denom3) \n",
    "   \n",
    "   f_ji = np.nan_to_num(f_ji)\n",
    "   g_ji = np.nan_to_num(g_ji)\n",
    "\n",
    "   #Fill F\n",
    "   F[:, l] = f_ji + 1j * g_ji \n",
    "\n",
    "I = np.eye(len(k_e__r_ij), dtype = complex)\n",
    "\n",
    "A = - 1/2 * (I + F)\n",
    "\n",
    "\n",
    "A_eigvals_right, A_right_eigvecs = np.linalg.eig(A)  # Right eigenvectors (columns)\n",
    "\n",
    "# A_eigvals_left_dag, left_eigvecs_dag = np.linalg.eig(A.conj().T)  # Left eigenvectors (columns)\n",
    "\n",
    "# A_eigvals_left = A_eigvals_left_dag.conj() #\n",
    "# A_left_eigvecs = left_eigvecs_dag.conj()\n",
    "\n",
    "# B_eigenvalues, B_left_eigvecs, B_right_eigvecs = eig(A, left=True, right=True)\n",
    "\n",
    "# for eigenvalue in A_eigenvalues:\n",
    "#    print(eigenvalue)"
   ]
  },
  {
   "cell_type": "code",
   "execution_count": 166,
   "metadata": {},
   "outputs": [
    {
     "data": {
      "text/plain": [
       "(21.587080745063712+38.545486166368065j)"
      ]
     },
     "execution_count": 166,
     "metadata": {},
     "output_type": "execute_result"
    }
   ],
   "source": [
    "np.linalg.det(A)"
   ]
  },
  {
   "cell_type": "code",
   "execution_count": 167,
   "metadata": {},
   "outputs": [],
   "source": [
    "A_right_eigvecs_inv = np.linalg.inv(A_right_eigvecs)"
   ]
  },
  {
   "cell_type": "code",
   "execution_count": 168,
   "metadata": {},
   "outputs": [
    {
     "data": {
      "text/plain": [
       "array([[ 1.+0.j,  0.+0.j,  0.+0.j,  0.-0.j, -0.-0.j],\n",
       "       [ 0.-0.j,  1.-0.j, -0.-0.j,  0.-0.j,  0.+0.j],\n",
       "       [ 0.+0.j,  0.+0.j,  1.+0.j,  0.+0.j,  0.+0.j],\n",
       "       [ 0.-0.j, -0.-0.j,  0.-0.j,  1.-0.j,  0.-0.j],\n",
       "       [-0.-0.j,  0.+0.j,  0.-0.j, -0.-0.j,  1.-0.j]])"
      ]
     },
     "execution_count": 168,
     "metadata": {},
     "output_type": "execute_result"
    }
   ],
   "source": [
    "tester = np.round(A_right_eigvecs_inv @ A_right_eigvecs, 14)\n",
    "tester"
   ]
  },
  {
   "cell_type": "code",
   "execution_count": 169,
   "metadata": {},
   "outputs": [],
   "source": [
    "is_identity = np.array_equal(tester, np.eye(A.shape[0]))\n",
    "is_identity \n",
    "\n",
    "if is_identity != True:\n",
    "    print('Something wrong in the inverse')"
   ]
  },
  {
   "cell_type": "markdown",
   "metadata": {},
   "source": [
    "Start i en egentilstand og se, hvad vi får: "
   ]
  },
  {
   "cell_type": "code",
   "execution_count": 170,
   "metadata": {},
   "outputs": [
    {
     "data": {
      "text/plain": [
       "array([-0.55649255-0.01535296j,  0.04453879-0.01081844j,  0.6131551 +0.j        ,  0.04453879-0.01081844j, -0.55649255-0.01535296j])"
      ]
     },
     "execution_count": 170,
     "metadata": {},
     "output_type": "execute_result"
    }
   ],
   "source": [
    "A_right_eigvecs[:, 2]"
   ]
  },
  {
   "cell_type": "code",
   "execution_count": 171,
   "metadata": {},
   "outputs": [
    {
     "data": {
      "text/plain": [
       "array([ 0.+0.j, -0.-0.j,  1.+0.j,  0.-0.j,  0.-0.j])"
      ]
     },
     "execution_count": 171,
     "metadata": {},
     "output_type": "execute_result"
    }
   ],
   "source": [
    "np.round(A_right_eigvecs_inv @ A_right_eigvecs[:, 2], 14)"
   ]
  },
  {
   "cell_type": "markdown",
   "metadata": {},
   "source": [
    "Altså gør den præcis som forventet og skifter fra $|i>$-basen, hvor  $\\lambda_j = \\sum^N c_i |i>$ til lambda basen, hvor vi blot har $1|\\lambda_j> = (0, 0, .., 1, .. 0)$ med 1 på j'te plads. Da vi jo blot i dette check startede i $\\lambda_j$ tilstanden i $|i>$-basen. Så giver mening vi i $|\\lambda>$-basen bare har 1 på den plads."
   ]
  },
  {
   "cell_type": "markdown",
   "metadata": {},
   "source": [
    "Gå tilbage til i-base er så blot $\\Lambda^R (0,0,...,1, ..,0) = |\\lambda_j>$"
   ]
  },
  {
   "cell_type": "markdown",
   "metadata": {},
   "source": [
    "Lad os nu prøve at starte med en enkelt excitation på det første site. ALtså $|\\psi> = |1>$"
   ]
  },
  {
   "cell_type": "code",
   "execution_count": 172,
   "metadata": {},
   "outputs": [],
   "source": [
    "first_site_excited_ibase = np.zeros(len(A))\n",
    "first_site_excited_ibase[0] = 1"
   ]
  },
  {
   "cell_type": "markdown",
   "metadata": {},
   "source": [
    "Changing to the $|\\lambda >$-base. "
   ]
  },
  {
   "cell_type": "code",
   "execution_count": 173,
   "metadata": {},
   "outputs": [],
   "source": [
    "first_site_excited_lambdabase = A_right_eigvecs_inv @ first_site_excited_ibase"
   ]
  },
  {
   "cell_type": "markdown",
   "metadata": {},
   "source": [
    "Now getting the time evolution"
   ]
  },
  {
   "cell_type": "code",
   "execution_count": 174,
   "metadata": {},
   "outputs": [],
   "source": [
    "t = np.linspace(0, 20, 250)  # Shape (100,)\n",
    "coeff_evolution_lambdabase = first_site_excited_lambdabase[:, np.newaxis] * np.exp(A_eigvals_right[:, np.newaxis] * t)"
   ]
  },
  {
   "cell_type": "markdown",
   "metadata": {},
   "source": [
    "Switching back to the i-base"
   ]
  },
  {
   "cell_type": "code",
   "execution_count": 175,
   "metadata": {},
   "outputs": [],
   "source": [
    "coeff_evolution_ibase = A_right_eigvecs @ coeff_evolution_lambdabase    #slice like coeff_evolution_ibase[0,:] to get evolution of single one"
   ]
  },
  {
   "cell_type": "markdown",
   "metadata": {},
   "source": [
    "Thus taking the norm square we get that the probability of being on each site at t evolves like. "
   ]
  },
  {
   "cell_type": "code",
   "execution_count": 176,
   "metadata": {},
   "outputs": [
    {
     "data": {
      "image/png": "[encoded data removed]",
      "text/plain": [
       "<Figure size 1200x450 with 1 Axes>"
      ]
     },
     "metadata": {},
     "output_type": "display_data"
    }
   ],
   "source": [
    "prob_exc_sites_t = coeff_evolution_ibase * coeff_evolution_ibase.conj()\n",
    "plt.figure(figsize=(8,3), dpi=150)\n",
    "for i in range(len(A)): \n",
    "    plt.plot(t, prob_exc_sites_t[i,:].real, label = f\"|c_{i+1}|^2\")\n",
    "plt.plot(t, np.sum(prob_exc_sites_t.real, axis=0), '.', markersize = 3, label = 'Summed coef') #all complex part are 0 just due to numerical precision we take .real\n",
    "plt.xlabel(r\"$t \\; [\\Gamma]$\")\n",
    "plt.ylabel(r'$|c_i|^2$')\n",
    "plt.legend();"
   ]
  },
  {
   "cell_type": "markdown",
   "metadata": {},
   "source": []
  },
  {
   "cell_type": "markdown",
   "metadata": {},
   "source": []
  },
  {
   "cell_type": "markdown",
   "metadata": {},
   "source": []
  },
  {
   "cell_type": "markdown",
   "metadata": {},
   "source": []
  },
  {
   "cell_type": "markdown",
   "metadata": {},
   "source": [
    "De højre egenvektorer opfylder $Av = \\lambda v$. For de venstre har vi $A^\\dagger w^\\dagger = k^* w^\\dagger$, så ved at tage dagger på begge sider: $wA=kw$. Ved blot at få python til at finde højre egenvektorer for hhv. $A$ og $A^\\dagger$ får jeg to matricer med egenvektorne i kolonnerne. Jf. ovenstående er de venstre egenvektorer for $A$  ($w$'erne) så lig den konjugerede (behøver ikke transponere her, da arrangeret i matrice) af højre egenvektorne for $A^\\dagger$ og venstre egenværdi er lig med den konjugerede af højre egenværdi for $A^\\dagger$. "
   ]
  },
  {
   "cell_type": "markdown",
   "metadata": {},
   "source": [
    "Men når jeg så får python til at finde $\\lambda$, $k^*$ og matricen med $v$'er og matricen med $w^*$'er og jeg kompleks konjugerer $k^*$ og $w^*$ for at at få dem i relation til $A$ og ikke $A^\\dagger$ så får jeg, at det er de samme egenværdier og samme egentilstande. Kan ses nedenfor"
   ]
  },
  {
   "cell_type": "code",
   "execution_count": 178,
   "metadata": {},
   "outputs": [
    {
     "ename": "NameError",
     "evalue": "name 'A_left_eigvecs' is not defined",
     "output_type": "error",
     "traceback": [
      "\u001b[0;31m---------------------------------------------------------------------------\u001b[0m",
      "\u001b[0;31mNameError\u001b[0m                                 Traceback (most recent call last)",
      "Cell \u001b[0;32mIn[178], line 1\u001b[0m\n\u001b[0;32m----> 1\u001b[0m A_left_eigvecs \u001b[38;5;241m@\u001b[39m A_right_eigvecs\n",
      "\u001b[0;31mNameError\u001b[0m: name 'A_left_eigvecs' is not defined"
     ]
    }
   ],
   "source": [
    "A_left_eigvecs @ A_right_eigvecs"
   ]
  },
  {
   "cell_type": "code",
   "execution_count": null,
   "metadata": {},
   "outputs": [
    {
     "name": "stdout",
     "output_type": "stream",
     "text": [
      "\u001b[0;31mSignature:\u001b[0m\n",
      "\u001b[0meig\u001b[0m\u001b[0;34m(\u001b[0m\u001b[0;34m\u001b[0m\n",
      "\u001b[0;34m\u001b[0m    \u001b[0ma\u001b[0m\u001b[0;34m,\u001b[0m\u001b[0;34m\u001b[0m\n",
      "\u001b[0;34m\u001b[0m    \u001b[0mb\u001b[0m\u001b[0;34m=\u001b[0m\u001b[0;32mNone\u001b[0m\u001b[0;34m,\u001b[0m\u001b[0;34m\u001b[0m\n",
      "\u001b[0;34m\u001b[0m    \u001b[0mleft\u001b[0m\u001b[0;34m=\u001b[0m\u001b[0;32mFalse\u001b[0m\u001b[0;34m,\u001b[0m\u001b[0;34m\u001b[0m\n",
      "\u001b[0;34m\u001b[0m    \u001b[0mright\u001b[0m\u001b[0;34m=\u001b[0m\u001b[0;32mTrue\u001b[0m\u001b[0;34m,\u001b[0m\u001b[0;34m\u001b[0m\n",
      "\u001b[0;34m\u001b[0m    \u001b[0moverwrite_a\u001b[0m\u001b[0;34m=\u001b[0m\u001b[0;32mFalse\u001b[0m\u001b[0;34m,\u001b[0m\u001b[0;34m\u001b[0m\n",
      "\u001b[0;34m\u001b[0m    \u001b[0moverwrite_b\u001b[0m\u001b[0;34m=\u001b[0m\u001b[0;32mFalse\u001b[0m\u001b[0;34m,\u001b[0m\u001b[0;34m\u001b[0m\n",
      "\u001b[0;34m\u001b[0m    \u001b[0mcheck_finite\u001b[0m\u001b[0;34m=\u001b[0m\u001b[0;32mTrue\u001b[0m\u001b[0;34m,\u001b[0m\u001b[0;34m\u001b[0m\n",
      "\u001b[0;34m\u001b[0m    \u001b[0mhomogeneous_eigvals\u001b[0m\u001b[0;34m=\u001b[0m\u001b[0;32mFalse\u001b[0m\u001b[0;34m,\u001b[0m\u001b[0;34m\u001b[0m\n",
      "\u001b[0;34m\u001b[0m\u001b[0;34m)\u001b[0m\u001b[0;34m\u001b[0m\u001b[0;34m\u001b[0m\u001b[0m\n",
      "\u001b[0;31mDocstring:\u001b[0m\n",
      "Solve an ordinary or generalized eigenvalue problem of a square matrix.\n",
      "\n",
      "Find eigenvalues w and right or left eigenvectors of a general matrix::\n",
      "\n",
      "    a   vr[:,i] = w[i]        b   vr[:,i]\n",
      "    a.H vl[:,i] = w[i].conj() b.H vl[:,i]\n",
      "\n",
      "where ``.H`` is the Hermitian conjugation.\n",
      "\n",
      "Parameters\n",
      "----------\n",
      "a : (M, M) array_like\n",
      "    A complex or real matrix whose eigenvalues and eigenvectors\n",
      "    will be computed.\n",
      "b : (M, M) array_like, optional\n",
      "    Right-hand side matrix in a generalized eigenvalue problem.\n",
      "    Default is None, identity matrix is assumed.\n",
      "left : bool, optional\n",
      "    Whether to calculate and return left eigenvectors.  Default is False.\n",
      "right : bool, optional\n",
      "    Whether to calculate and return right eigenvectors.  Default is True.\n",
      "overwrite_a : bool, optional\n",
      "    Whether to overwrite `a`; may improve performance.  Default is False.\n",
      "overwrite_b : bool, optional\n",
      "    Whether to overwrite `b`; may improve performance.  Default is False.\n",
      "check_finite : bool, optional\n",
      "    Whether to check that the input matrices contain only finite numbers.\n",
      "    Disabling may give a performance gain, but may result in problems\n",
      "    (crashes, non-termination) if the inputs do contain infinities or NaNs.\n",
      "homogeneous_eigvals : bool, optional\n",
      "    If True, return the eigenvalues in homogeneous coordinates.\n",
      "    In this case ``w`` is a (2, M) array so that::\n",
      "\n",
      "        w[1,i] a vr[:,i] = w[0,i] b vr[:,i]\n",
      "\n",
      "    Default is False.\n",
      "\n",
      "Returns\n",
      "-------\n",
      "w : (M,) or (2, M) double or complex ndarray\n",
      "    The eigenvalues, each repeated according to its\n",
      "    multiplicity. The shape is (M,) unless\n",
      "    ``homogeneous_eigvals=True``.\n",
      "vl : (M, M) double or complex ndarray\n",
      "    The left eigenvector corresponding to the eigenvalue\n",
      "    ``w[i]`` is the column ``vl[:,i]``. Only returned if ``left=True``.\n",
      "    The left eigenvector is not normalized.\n",
      "vr : (M, M) double or complex ndarray\n",
      "    The normalized right eigenvector corresponding to the eigenvalue\n",
      "    ``w[i]`` is the column ``vr[:,i]``.  Only returned if ``right=True``.\n",
      "\n",
      "Raises\n",
      "------\n",
      "LinAlgError\n",
      "    If eigenvalue computation does not converge.\n",
      "\n",
      "See Also\n",
      "--------\n",
      "eigvals : eigenvalues of general arrays\n",
      "eigh : Eigenvalues and right eigenvectors for symmetric/Hermitian arrays.\n",
      "eig_banded : eigenvalues and right eigenvectors for symmetric/Hermitian\n",
      "    band matrices\n",
      "eigh_tridiagonal : eigenvalues and right eiegenvectors for\n",
      "    symmetric/Hermitian tridiagonal matrices\n",
      "\n",
      "Examples\n",
      "--------\n",
      ">>> import numpy as np\n",
      ">>> from scipy import linalg\n",
      ">>> a = np.array([[0., -1.], [1., 0.]])\n",
      ">>> linalg.eigvals(a)\n",
      "array([0.+1.j, 0.-1.j])\n",
      "\n",
      ">>> b = np.array([[0., 1.], [1., 1.]])\n",
      ">>> linalg.eigvals(a, b)\n",
      "array([ 1.+0.j, -1.+0.j])\n",
      "\n",
      ">>> a = np.array([[3., 0., 0.], [0., 8., 0.], [0., 0., 7.]])\n",
      ">>> linalg.eigvals(a, homogeneous_eigvals=True)\n",
      "array([[3.+0.j, 8.+0.j, 7.+0.j],\n",
      "       [1.+0.j, 1.+0.j, 1.+0.j]])\n",
      "\n",
      ">>> a = np.array([[0., -1.], [1., 0.]])\n",
      ">>> linalg.eigvals(a) == linalg.eig(a)[0]\n",
      "array([ True,  True])\n",
      ">>> linalg.eig(a, left=True, right=False)[1] # normalized left eigenvector\n",
      "array([[-0.70710678+0.j        , -0.70710678-0.j        ],\n",
      "       [-0.        +0.70710678j, -0.        -0.70710678j]])\n",
      ">>> linalg.eig(a, left=False, right=True)[1] # normalized right eigenvector\n",
      "array([[0.70710678+0.j        , 0.70710678-0.j        ],\n",
      "       [0.        -0.70710678j, 0.        +0.70710678j]])\n",
      "\u001b[0;31mFile:\u001b[0m      ~/anaconda3/lib/python3.11/site-packages/scipy/linalg/_decomp.py\n",
      "\u001b[0;31mType:\u001b[0m      function"
     ]
    }
   ],
   "source": [
    "?eig"
   ]
  },
  {
   "cell_type": "code",
   "execution_count": null,
   "metadata": {},
   "outputs": [
    {
     "data": {
      "text/plain": [
       "array([[-0.5       +0.j        , -0.46134842-2.59709387j, -0.35493593-0.384059j  , -0.20668068-0.28910337j, -0.05157598-0.27299359j],\n",
       "       [-0.46134842-2.59709387j, -0.5       +0.j        , -0.46134842-2.59709387j, -0.35493593-0.384059j  , -0.20668068-0.28910337j],\n",
       "       [-0.35493593-0.384059j  , -0.46134842-2.59709387j, -0.5       +0.j        , -0.46134842-2.59709387j, -0.35493593-0.384059j  ],\n",
       "       [-0.20668068-0.28910337j, -0.35493593-0.384059j  , -0.46134842-2.59709387j, -0.5       +0.j        , -0.46134842-2.59709387j],\n",
       "       [-0.05157598-0.27299359j, -0.20668068-0.28910337j, -0.35493593-0.384059j  , -0.46134842-2.59709387j, -0.5       +0.j        ]])"
      ]
     },
     "execution_count": 51,
     "metadata": {},
     "output_type": "execute_result"
    }
   ],
   "source": [
    "A"
   ]
  },
  {
   "cell_type": "code",
   "execution_count": null,
   "metadata": {},
   "outputs": [
    {
     "data": {
      "text/plain": [
       "array([ True,  True,  True,  True,  True])"
      ]
     },
     "execution_count": 52,
     "metadata": {},
     "output_type": "execute_result"
    }
   ],
   "source": [
    "A_eigvals_left == A_eigvals_right"
   ]
  },
  {
   "cell_type": "code",
   "execution_count": null,
   "metadata": {},
   "outputs": [
    {
     "data": {
      "text/plain": [
       "array([[ 3.35519539e-01-1.93020791e-02j,  5.07686246e-01+0.00000000e+00j, -5.56492550e-01-1.53529623e-02j,  2.77808661e-01+2.41472696e-03j, -4.91238372e-01-3.06518830e-02j],\n",
       "       [ 4.91820968e-01-6.05107642e-03j,  4.91238372e-01+3.06518830e-02j,  4.45387902e-02-1.08184423e-02j, -5.05987929e-01+3.03021862e-03j,  5.07686246e-01+0.00000000e+00j],\n",
       "       [ 5.38757066e-01+0.00000000e+00j, -1.40216003e-16+8.50377567e-17j,  6.13155096e-01+0.00000000e+00j,  5.77552682e-01+0.00000000e+00j, -7.49854382e-17-1.17968045e-16j],\n",
       "       [ 4.91820968e-01-6.05107642e-03j, -4.91238372e-01-3.06518830e-02j,  4.45387902e-02-1.08184423e-02j, -5.05987929e-01+3.03021862e-03j, -5.07686246e-01+3.88578059e-16j],\n",
       "       [ 3.35519539e-01-1.93020791e-02j, -5.07686246e-01-1.94289029e-16j, -5.56492550e-01-1.53529623e-02j,  2.77808661e-01+2.41472696e-03j,  4.91238372e-01+3.06518830e-02j]])"
      ]
     },
     "execution_count": 53,
     "metadata": {},
     "output_type": "execute_result"
    }
   ],
   "source": [
    "A_right_eigvecs"
   ]
  },
  {
   "cell_type": "code",
   "execution_count": null,
   "metadata": {},
   "outputs": [
    {
     "data": {
      "text/plain": [
       "array([[ 0.1122008-0.0129524j,  0.2577453+0.j       ,  0.3094482+0.0170876j,  0.0771718+0.0013417j,  0.2403756+0.0301148j],\n",
       "       [ 0.2418512-0.0059521j,  0.2403756+0.0301148j,  0.0018667-0.0009637j,  0.2560146-0.0030665j,  0.2577453+0.j       ],\n",
       "       [ 0.2902592+0.j       ,  0.       -0.j       ,  0.3759592+0.j       ,  0.3335671+0.j       , -0.       +0.j       ],\n",
       "       [ 0.2418512-0.0059521j,  0.2403756+0.0301148j,  0.0018667-0.0009637j,  0.2560146-0.0030665j,  0.2577453-0.j       ],\n",
       "       [ 0.1122008-0.0129524j,  0.2577453+0.j       ,  0.3094482+0.0170876j,  0.0771718+0.0013417j,  0.2403756+0.0301148j]])"
      ]
     },
     "execution_count": 54,
     "metadata": {},
     "output_type": "execute_result"
    }
   ],
   "source": [
    "np.round(A_left_eigvecs * A_right_eigvecs, 7)"
   ]
  },
  {
   "cell_type": "code",
   "execution_count": null,
   "metadata": {},
   "outputs": [
    {
     "data": {
      "text/plain": [
       "array([[0.+0.j, 0.-0.j, 0.+0.j, 0.+0.j, 0.+0.j],\n",
       "       [0.+0.j, 0.+0.j, 0.+0.j, 0.+0.j, 0.-0.j],\n",
       "       [0.-0.j, 0.+0.j, 0.-0.j, 0.-0.j, 0.+0.j],\n",
       "       [0.+0.j, 0.+0.j, 0.+0.j, 0.+0.j, 0.+0.j],\n",
       "       [0.+0.j, 0.+0.j, 0.+0.j, 0.+0.j, 0.+0.j]])"
      ]
     },
     "execution_count": 55,
     "metadata": {},
     "output_type": "execute_result"
    }
   ],
   "source": [
    "A_left_eigvecs - A_right_eigvecs"
   ]
  },
  {
   "cell_type": "markdown",
   "metadata": {},
   "source": [
    "Altså at højre og venstre egentilstande er ens og at højre og venstre egenværdier er ens. Troede kun det var tilfældet, hvis min matrice var hermitisk. "
   ]
  },
  {
   "cell_type": "markdown",
   "metadata": {},
   "source": [
    "Når jeg så prøver at gange samme og få identitets matricen, så har jeg: "
   ]
  },
  {
   "cell_type": "markdown",
   "metadata": {},
   "source": [
    "Enten (men er jo bare at gange hver egentilstand med sig selv, da de jo er lig hinanden): "
   ]
  },
  {
   "cell_type": "code",
   "execution_count": null,
   "metadata": {},
   "outputs": [
    {
     "data": {
      "text/plain": [
       "array([[ 0.9983633-0.0378091j,  0.       +0.j       ,  0.       -0.j       , -0.       +0.j       ,  0.       +0.j       ],\n",
       "       [ 0.       +0.j       ,  0.9962418+0.0602295j, -0.       -0.j       ,  0.       +0.j       , -0.       -0.j       ],\n",
       "       [ 0.       -0.j       , -0.       -0.j       ,  0.998589 +0.0322479j,  0.       +0.j       ,  0.       +0.j       ],\n",
       "       [-0.       +0.j       ,  0.       +0.j       ,  0.       +0.j       ,  0.9999399-0.0034497j, -0.       -0.j       ],\n",
       "       [ 0.       +0.j       , -0.       -0.j       ,  0.       +0.j       , -0.       -0.j       ,  0.9962418+0.0602295j]])"
      ]
     },
     "execution_count": 56,
     "metadata": {},
     "output_type": "execute_result"
    }
   ],
   "source": [
    "np.round(A_right_eigvecs.T @ A_right_eigvecs, 7) "
   ]
  },
  {
   "cell_type": "code",
   "execution_count": null,
   "metadata": {},
   "outputs": [
    {
     "data": {
      "text/plain": [
       "array([[ 0.9983633-0.0378091j,  0.       +0.j       ,  0.       -0.j       , -0.       +0.j       ,  0.       +0.j       ],\n",
       "       [ 0.       +0.j       ,  0.9962418+0.0602295j, -0.       -0.j       ,  0.       +0.j       , -0.       -0.j       ],\n",
       "       [ 0.       -0.j       , -0.       -0.j       ,  0.998589 +0.0322479j,  0.       +0.j       ,  0.       +0.j       ],\n",
       "       [-0.       +0.j       ,  0.       +0.j       ,  0.       +0.j       ,  0.9999399-0.0034497j, -0.       -0.j       ],\n",
       "       [ 0.       +0.j       , -0.       -0.j       ,  0.       +0.j       , -0.       -0.j       ,  0.9962418+0.0602295j]])"
      ]
     },
     "execution_count": 57,
     "metadata": {},
     "output_type": "execute_result"
    }
   ],
   "source": [
    "np.round(A_left_eigvecs.T @ A_right_eigvecs, 7) "
   ]
  },
  {
   "cell_type": "markdown",
   "metadata": {},
   "source": [
    "Eller (tror nærmere den her, da det svarer til $<w|v>$ i normale indre produkt forstand, hvor w så bliver kompleks)"
   ]
  },
  {
   "cell_type": "code",
   "execution_count": null,
   "metadata": {},
   "outputs": [
    {
     "data": {
      "text/plain": [
       "array([[ 1.0000e+00-0.j       ,  0.0000e+00-0.j       ,  1.4472e-03-0.0418878j, -2.5980e-04+0.0092021j,  0.0000e+00+0.j       ],\n",
       "       [ 0.0000e+00+0.j       ,  1.0000e+00+0.j       , -0.0000e+00-0.j       ,  0.0000e+00+0.j       , -0.0000e+00-0.0622462j],\n",
       "       [ 1.4472e-03+0.0418878j, -0.0000e+00+0.j       ,  1.0000e+00-0.j       , -2.7940e-04-0.0048353j,  0.0000e+00-0.j       ],\n",
       "       [-2.5980e-04-0.0092021j,  0.0000e+00-0.j       , -2.7940e-04+0.0048353j,  1.0000e+00+0.j       , -0.0000e+00+0.j       ],\n",
       "       [ 0.0000e+00-0.j       , -0.0000e+00+0.0622462j,  0.0000e+00+0.j       , -0.0000e+00-0.j       ,  1.0000e+00-0.j       ]])"
      ]
     },
     "execution_count": 58,
     "metadata": {},
     "output_type": "execute_result"
    }
   ],
   "source": [
    "np.round(A_left_eigvecs.conj().T @ A_right_eigvecs, 7) "
   ]
  },
  {
   "cell_type": "markdown",
   "metadata": {},
   "source": [
    "Så bliver diagonalen god, men får elementer udenfor, der ikke går til 0. \n",
    "<br> Er som om, at i forstanden $w_i v_j = 0$ med dotprodukt som i simpel linear algebra (altså intet kompleks), men her har man $w_i v_i \\neq 1$ \n",
    "<br> Mens at hvis man tager normalt dot produkt (altså med kompleks), så har man, at det modsatte er sandt; $w_i^* v_j \\neq 0$ (i hvert fald ikke altid), men derimod $w_i^* v_i = 1$"
   ]
  },
  {
   "cell_type": "markdown",
   "metadata": {},
   "source": [
    "Altså A er jo symmetrisk, men ikke hermitisk, så forstår ikke hvorfor, jeg får de her ting."
   ]
  },
  {
   "cell_type": "code",
   "execution_count": null,
   "metadata": {},
   "outputs": [],
   "source": []
  },
  {
   "cell_type": "markdown",
   "metadata": {},
   "source": [
    "Med B metoden"
   ]
  },
  {
   "cell_type": "code",
   "execution_count": null,
   "metadata": {},
   "outputs": [
    {
     "data": {
      "text/plain": [
       "array([[ True,  True,  True,  True,  True],\n",
       "       [ True,  True,  True,  True,  True],\n",
       "       [ True,  True,  True,  True,  True],\n",
       "       [ True,  True,  True,  True,  True],\n",
       "       [ True,  True,  True,  True,  True]])"
      ]
     },
     "execution_count": 59,
     "metadata": {},
     "output_type": "execute_result"
    }
   ],
   "source": [
    "A_right_eigvecs == B_right_eigvecs"
   ]
  },
  {
   "cell_type": "markdown",
   "metadata": {},
   "source": [
    "Et eller andet bemærkelsesværdigt med måderne at finde venstre egentilstande på. I den anden metode er de ikke en til en de samme. Se næste to linjer kode."
   ]
  },
  {
   "cell_type": "code",
   "execution_count": null,
   "metadata": {},
   "outputs": [
    {
     "data": {
      "text/plain": [
       "array([[False, False, False, False, False],\n",
       "       [False, False, False, False,  True],\n",
       "       [ True,  True,  True,  True,  True],\n",
       "       [False, False, False, False,  True],\n",
       "       [False, False, False, False, False]])"
      ]
     },
     "execution_count": 60,
     "metadata": {},
     "output_type": "execute_result"
    }
   ],
   "source": [
    "np.round(A_left_eigvecs,7) == np.round(B_left_eigvecs,7)"
   ]
  },
  {
   "cell_type": "code",
   "execution_count": null,
   "metadata": {},
   "outputs": [
    {
     "data": {
      "text/plain": [
       "array([[ True, False,  True,  True,  True],\n",
       "       [ True, False,  True,  True,  True],\n",
       "       [ True,  True,  True,  True,  True],\n",
       "       [ True, False,  True,  True,  True],\n",
       "       [ True, False,  True,  True,  True]])"
      ]
     },
     "execution_count": 61,
     "metadata": {},
     "output_type": "execute_result"
    }
   ],
   "source": [
    "np.round(A_left_eigvecs.conj(),7) == np.round(B_left_eigvecs,7)"
   ]
  },
  {
   "cell_type": "markdown",
   "metadata": {},
   "source": [
    "Er både en konjugering (da A_left_eigvecs allerede er konjugerede en gang fra de oprindelige left_eigvecs_dag) og en søjle til forskel? <br> Måske noget dimension, der mangler i den anden gemt her? Omvendt nok også den der er skyld i, at vi får et -1 på diagonalen. "
   ]
  },
  {
   "cell_type": "code",
   "execution_count": null,
   "metadata": {},
   "outputs": [
    {
     "data": {
      "text/plain": [
       "array([[ 0.       -0.0386042j,  1.0153724+0.j       ,  0.       -0.030706j ,  0.       +0.0048294j,  0.       -0.0613038j],\n",
       "       [ 0.       -0.0121022j,  0.9824768+0.j       ,  0.       -0.0216368j,  0.       +0.0060604j,  0.       -0.j       ],\n",
       "       [ 0.       -0.j       , -0.       +0.j       ,  0.       -0.j       ,  0.       -0.j       ,  0.       +0.j       ],\n",
       "       [ 0.       -0.0121022j, -0.9824768+0.j       ,  0.       -0.0216368j,  0.       +0.0060604j,  0.       +0.j       ],\n",
       "       [ 0.       -0.0386042j, -1.0153724-0.j       ,  0.       -0.030706j ,  0.       +0.0048294j,  0.       +0.0613038j]])"
      ]
     },
     "execution_count": 62,
     "metadata": {},
     "output_type": "execute_result"
    }
   ],
   "source": [
    "\n",
    "np.round(A_left_eigvecs,7) - np.round(B_left_eigvecs,7)"
   ]
  },
  {
   "cell_type": "code",
   "execution_count": null,
   "metadata": {},
   "outputs": [
    {
     "data": {
      "text/plain": [
       "array([[ 0.9983633-0.0378091j, -0.       -0.j       ,  0.       -0.j       , -0.       -0.j       ,  0.       +0.j       ],\n",
       "       [ 0.       -0.j       , -0.9962418-0.0602295j,  0.       +0.j       , -0.       -0.j       ,  0.       +0.j       ],\n",
       "       [-0.       +0.j       , -0.       +0.j       ,  0.998589 +0.0322479j, -0.       +0.j       , -0.       -0.j       ],\n",
       "       [ 0.       +0.j       ,  0.       -0.j       ,  0.       -0.j       ,  0.9999399-0.0034497j, -0.       +0.j       ],\n",
       "       [ 0.       -0.j       , -0.       +0.j       ,  0.       +0.j       , -0.       -0.j       ,  0.9962418+0.0602295j]])"
      ]
     },
     "execution_count": 63,
     "metadata": {},
     "output_type": "execute_result"
    }
   ],
   "source": [
    "np.round(B_left_eigvecs.conj().T @ B_right_eigvecs, 7)"
   ]
  },
  {
   "cell_type": "code",
   "execution_count": null,
   "metadata": {},
   "outputs": [
    {
     "data": {
      "text/plain": [
       "array([[ 1.0000e+00-0.j       , -0.0000e+00+0.j       ,  1.4472e-03-0.0418878j, -2.5980e-04+0.0092021j,  0.0000e+00-0.j       ],\n",
       "       [ 0.0000e+00-0.j       , -1.0000e+00-0.j       ,  0.0000e+00+0.j       , -0.0000e+00-0.j       ,  0.0000e+00+0.0622462j],\n",
       "       [ 1.4472e-03+0.0418878j, -0.0000e+00+0.j       ,  1.0000e+00+0.j       , -2.7940e-04-0.0048353j, -0.0000e+00-0.j       ],\n",
       "       [-2.5980e-04-0.0092021j,  0.0000e+00+0.j       , -2.7940e-04+0.0048353j,  1.0000e+00-0.j       , -0.0000e+00-0.j       ],\n",
       "       [ 0.0000e+00+0.j       , -0.0000e+00+0.0622462j,  0.0000e+00+0.j       , -0.0000e+00-0.j       ,  1.0000e+00-0.j       ]])"
      ]
     },
     "execution_count": 64,
     "metadata": {},
     "output_type": "execute_result"
    }
   ],
   "source": [
    "np.round(B_left_eigvecs.T @ B_right_eigvecs, 7)"
   ]
  },
  {
   "cell_type": "code",
   "execution_count": null,
   "metadata": {},
   "outputs": [],
   "source": []
  }
 ],
 "metadata": {
  "kernelspec": {
   "display_name": "base",
   "language": "python",
   "name": "python3"
  },
  "language_info": {
   "codemirror_mode": {
    "name": "ipython",
    "version": 3
   },
   "file_extension": ".py",
   "mimetype": "text/x-python",
   "name": "python",
   "nbconvert_exporter": "python",
   "pygments_lexer": "ipython3",
   "version": "3.11.11"
  }
 },
 "nbformat": 4,
 "nbformat_minor": 2
}
