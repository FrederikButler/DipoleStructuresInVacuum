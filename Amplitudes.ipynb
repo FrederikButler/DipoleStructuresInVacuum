{
 "cells": [
  {
   "cell_type": "markdown",
   "metadata": {},
   "source": [
    "# Code for determining b coefficients (amplitudes of excited state)"
   ]
  },
  {
   "cell_type": "code",
   "execution_count": 1,
   "metadata": {},
   "outputs": [],
   "source": [
    "import numpy as np\n",
    "import matplotlib.pyplot as plt\n",
    "from mpl_toolkits.mplot3d import Axes3D\n",
    "import plotly.graph_objects as go\n",
    "import cmath #for complex numbers\n",
    "\n",
    "from scipy.spatial import distance_matrix"
   ]
  },
  {
   "cell_type": "markdown",
   "metadata": {},
   "source": [
    "We set $\\Gamma$ = 1 so we simply have the time in units of $\\Gamma$. Also we set $k_e r_{ij} = k$ where $k$ is some contant  "
   ]
  },
  {
   "cell_type": "code",
   "execution_count": 2,
   "metadata": {},
   "outputs": [
    {
     "name": "stdout",
     "output_type": "stream",
     "text": [
      "647479505715249.4\n"
     ]
    }
   ],
   "source": [
    "epsilon_0 = 8.8541878188e-12        #F * m^-1 or C^2⋅kg^−1⋅m^−3⋅s^2\n",
    "hbar = 1.054571817e-34              #J * s \n",
    "\n",
    "k_e = 8e9 #m^-1   from first excited state of hydrogen\n",
    "\n",
    "\n",
    "dipole = 3.336e-30 #C*m    is cruly p correspondinc to 1 Debye \n",
    "dipole_vector_hat = np.array([0, 1, 0]) #i y retning  \n",
    "dipole_vector = dipole * dipole_vector_hat\n",
    "\n",
    "spont_decay = 1/(4 * np.pi * epsilon_0) * (4 * k_e**3 * dipole**2) / (3 * hbar)\n",
    "print(spont_decay)"
   ]
  },
  {
   "cell_type": "code",
   "execution_count": 9,
   "metadata": {},
   "outputs": [
    {
     "data": {
      "text/plain": [
       "array([[-4,  0,  0],\n",
       "       [-3,  0,  0],\n",
       "       [-2,  0,  0],\n",
       "       [-1,  0,  0],\n",
       "       [ 0,  0,  0],\n",
       "       [ 1,  0,  0],\n",
       "       [ 2,  0,  0],\n",
       "       [ 3,  0,  0],\n",
       "       [ 4,  0,  0]])"
      ]
     },
     "execution_count": 9,
     "metadata": {},
     "output_type": "execute_result"
    }
   ],
   "source": [
    "import Qchains\n",
    "Qchains.ChainGenerator(5, showChain=False)"
   ]
  },
  {
   "cell_type": "code",
   "execution_count": 4,
   "metadata": {},
   "outputs": [
    {
     "name": "stdout",
     "output_type": "stream",
     "text": [
      "Number of particles 9\n"
     ]
    }
   ],
   "source": [
    "points = np.array([\n",
    "    [-4, 0, 0],\n",
    "    [-3, 0, 0],\n",
    "    [-2, 1, 0],\n",
    "    [-1, 0, 0],\n",
    "    [0, 0, 0],\n",
    "    [1, 0, 0],\n",
    "    [2, 0, 0],\n",
    "    [3, 0, 0],\n",
    "    [4, 0, 0]\n",
    "])\n",
    "#points = points/(1/k_e) #convert to units of 1/k_e\n",
    "print('Number of particles', points.shape[0])"
   ]
  },
  {
   "cell_type": "code",
   "execution_count": 5,
   "metadata": {},
   "outputs": [],
   "source": [
    "# x, y, z = points[:, 0], points[:, 1], points[:, 2]\n",
    "\n",
    "# #interactive scatter plot\n",
    "# fig = go.Figure(data=[go.Scatter3d(\n",
    "#     x=x, y=y, z=z,\n",
    "#     mode='markers',\n",
    "#     marker=dict(size=5, color=z, colorscale='Viridis', opacity=0.8)\n",
    "# )])\n",
    "\n",
    "# # Customize layout\n",
    "# fig.update_layout(\n",
    "#     title=\"Geometry of the atoms\",\n",
    "#     scene=dict(xaxis_title=\"X\", yaxis_title=\"Y\", zaxis_title=\"Z\"),\n",
    "#     margin=dict(l=0, r=0, b=0, t=40)\n",
    "# )"
   ]
  },
  {
   "cell_type": "markdown",
   "metadata": {},
   "source": [
    "Calculating $r_{ij}$ "
   ]
  },
  {
   "cell_type": "code",
   "execution_count": 6,
   "metadata": {},
   "outputs": [],
   "source": [
    "#distance_matrix = distance_matrix(points, points) eventuelt for hurtigere \n",
    "r_ij_vector = points[:, np.newaxis] - points\n",
    "r_ij = np.linalg.norm(r_ij_vector, axis=2, keepdims=True)\n",
    "r_ij_hat = np.divide(r_ij_vector, r_ij, out=np.zeros_like(r_ij_vector, dtype=float), where=(r_ij != 0)) "
   ]
  },
  {
   "cell_type": "markdown",
   "metadata": {},
   "source": [
    "Calculate $F_{ji} = f_{ji} + i g_{ji}$"
   ]
  },
  {
   "cell_type": "code",
   "execution_count": 7,
   "metadata": {},
   "outputs": [],
   "source": [
    "F = np.zeros(shape = (len(r_ij), len(r_ij)), dtype=complex)\n",
    "\n",
    "for l in range(len(r_ij)): \n",
    "   dot_product = np.dot(r_ij_hat[l, :, :] , dipole_vector_hat)\n",
    "\n",
    "   denom1 = (k_e *r_ij[l].flatten())\n",
    "   denom2 = (k_e *r_ij[l].flatten())**2\n",
    "   denom3 = (k_e *r_ij[l].flatten())**3\n",
    "   safe_denom1 = np.where(denom1 == 0, np.nan, denom1)\n",
    "   safe_denom2 = np.where(denom2 == 0, np.nan, denom2)\n",
    "   safe_denom3 = np.where(denom3 == 0, np.nan, denom3)\n",
    "\n",
    "   f_ji =  3/2 * (1 - (dot_product)**2) * np.sin(k_e *r_ij[l].flatten())/safe_denom1 \\\n",
    "      + 3/2 * (1 - 3 * (dot_product)**2) * (np.cos(k_e *r_ij[l].flatten())/safe_denom2 - np.sin(k_e *r_ij[l].flatten())/ safe_denom3) \n",
    "   g_ji = -3/2 * (1 - (dot_product)**2) * np.cos(k_e *r_ij[l].flatten())/safe_denom1 \\\n",
    "      + 3/2 * (1 - 3 * (dot_product)**2) * (np.sin(k_e *r_ij[l].flatten())/safe_denom2 + np.cos(k_e *r_ij[l].flatten())/ safe_denom3) \n",
    "   \n",
    "   f_ji = np.nan_to_num(f_ji)\n",
    "   g_ji = np.nan_to_num(g_ji)\n",
    "\n",
    "   #Fill F\n",
    "   F[:, l] = f_ji + 1j * g_ji "
   ]
  },
  {
   "cell_type": "markdown",
   "metadata": {},
   "source": [
    "Let $A = -\\frac{\\Gamma}{2} (I + F)$ and solve for eigenvalues and eigenvectors of A. Then $b(t) = ve^{\\lambda t}$"
   ]
  },
  {
   "cell_type": "code",
   "execution_count": 8,
   "metadata": {},
   "outputs": [
    {
     "name": "stdout",
     "output_type": "stream",
     "text": [
      "Eigenvalues [-3.23739753e+14-24283.4375j     -3.23739753e+14 +3122.32421875j\n",
      " -3.23739753e+14+44110.94809926j -3.23739753e+14  -104.15581621j\n",
      " -3.23739753e+14-41645.49615598j -3.23739753e+14-16523.11602926j\n",
      " -3.23739753e+14+18875.11103282j -3.23739753e+14+19174.77390612j\n",
      " -3.23739753e+14 -2727.14157242j] \n",
      "\n",
      "Eigenvectors [[ 0.00814653+0.066891j   -0.18738377-0.00557018j  0.21383023+0.42168964j\n",
      "   0.54906563+0.j         -0.02220564-0.02496452j  0.19070369+0.01938747j\n",
      "   0.56313756+0.j          0.60603797+0.j          0.08544924+0.16056836j]\n",
      " [-0.00602788+0.00676869j  0.24603988-0.07995265j -0.14903998-0.14470488j\n",
      "  -0.37911657-0.26114571j -0.07357678-0.03030245j  0.22693098+0.05699531j\n",
      "   0.32256206+0.16090606j  0.29478804+0.09651131j -0.28362927+0.22697835j]\n",
      " [ 0.24326297-0.08292018j  0.01083237-0.08216541j  0.07683647-0.14657885j\n",
      "  -0.33078153-0.20566407j  0.07493722-0.08561336j  0.01923984+0.1229055j\n",
      "   0.10757401-0.2943937j   0.11558675-0.31443692j  0.83301369+0.j        ]\n",
      " [ 0.24717323+0.04040301j -0.31648755-0.03023743j  0.48765721+0.j\n",
      "  -0.14890606-0.43331358j  0.16599137-0.0277686j  -0.36001733-0.05021621j\n",
      "  -0.03975466-0.34456551j  0.09743587-0.36808455j -0.24010723+0.13494104j]\n",
      " [-0.41910548+0.02809854j  0.46480262-0.0041208j  -0.09558388+0.07792257j\n",
      "   0.15394262-0.02489116j  0.42086257-0.02724232j -0.49953926-0.04899456j\n",
      "   0.1432819 -0.06093219j  0.23916747-0.0435005j   0.02624648+0.098586j  ]\n",
      " [ 0.52594782+0.j         -0.19034329-0.0328932j  -0.34149022+0.01297853j\n",
      "   0.0835636 +0.17205389j  0.54570949+0.j         -0.22124366-0.00265053j\n",
      "   0.10032111+0.3560777j   0.00631829+0.32320527j -0.09850309+0.12936227j]\n",
      " [-0.49925795-0.01650826j -0.26716943+0.07719568j  0.24345834+0.02032223j\n",
      "  -0.12876321-0.07026202j  0.53534349+0.00318339j  0.26275924+0.06898809j\n",
      "  -0.0040139 +0.16396086j -0.13411098+0.1326274j   0.06356832-0.03603105j]\n",
      " [ 0.35267293+0.05775959j  0.53501406+0.j          0.24903057-0.05797812j\n",
      "   0.10137562-0.08741088j  0.3877799 +0.01640645j  0.50385653+0.j\n",
      "  -0.0401544 -0.19002059j  0.02109478-0.1120125j  -0.09804631-0.04821647j]\n",
      " [-0.17060629-0.08476735j -0.39112494-0.1416074j  -0.45059565-0.08950982j\n",
      "  -0.07305294+0.13884604j  0.19398363-0.02722658j  0.34714523-0.10872583j\n",
      "  -0.13069195-0.30264741j  0.05516803-0.25315347j -0.05476106-0.08976488j]]\n"
     ]
    }
   ],
   "source": [
    "I = np.eye(len(r_ij), dtype = complex)\n",
    "\n",
    "A = - spont_decay/2 * (I + F)\n",
    "\n",
    "A_eigenvalues, A_eigenvectors = np.linalg.eig(A)\n",
    "print('Eigenvalues', A_eigenvalues, '\\n')\n",
    "print('Eigenvectors', A_eigenvectors)"
   ]
  },
  {
   "cell_type": "markdown",
   "metadata": {},
   "source": []
  }
 ],
 "metadata": {
  "kernelspec": {
   "display_name": "base",
   "language": "python",
   "name": "python3"
  },
  "language_info": {
   "codemirror_mode": {
    "name": "ipython",
    "version": 3
   },
   "file_extension": ".py",
   "mimetype": "text/x-python",
   "name": "python",
   "nbconvert_exporter": "python",
   "pygments_lexer": "ipython3",
   "version": "3.11.11"
  }
 },
 "nbformat": 4,
 "nbformat_minor": 2
}
